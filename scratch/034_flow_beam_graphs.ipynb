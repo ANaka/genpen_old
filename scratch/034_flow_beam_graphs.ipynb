{
 "cells": [
  {
   "cell_type": "code",
   "execution_count": null,
   "metadata": {
    "Collapsed": "false"
   },
   "outputs": [],
   "source": [
    "import itertools\n",
    "import numpy as np\n",
    "import os\n",
    "import seaborn as sns\n",
    "from tqdm import tqdm\n",
    "from dataclasses import asdict, dataclass, field\n",
    "import vsketch\n",
    "import shapely.geometry as sg\n",
    "from shapely.geometry import box, MultiLineString, Point, MultiPoint, Polygon, MultiPolygon, LineString\n",
    "import shapely.affinity as sa\n",
    "import shapely.ops as so\n",
    "import matplotlib.pyplot as plt\n",
    "import pandas as pd\n",
    "import networkx as nx\n",
    "import vpype_cli\n",
    "from typing import List, Generic\n",
    "from genpen import genpen as gp, utils as utils\n",
    "from scipy import stats as ss\n",
    "import geopandas\n",
    "from shapely.errors import TopologicalError\n",
    "import functools\n",
    "%load_ext autoreload\n",
    "%autoreload 2"
   ]
  },
  {
   "cell_type": "code",
   "execution_count": null,
   "metadata": {
    "Collapsed": "false"
   },
   "outputs": [],
   "source": [
    "class GraphGram(object):\n",
    "    \n",
    "    def __init__(self, graph, xoff=0, yoff=0, scale=1, layout_method='kamada_kawai_layout'):\n",
    "        self.graph = graph\n",
    "        self._nodes = None\n",
    "        self.xoff = xoff\n",
    "        self.yoff = yoff\n",
    "        self.scale = scale\n",
    "        self.layout_method = layout_method\n",
    "    \n",
    "    @property\n",
    "    def center(self):\n",
    "        return np.array((self.xoff, self.yoff))\n",
    "    \n",
    "    @property\n",
    "    def edges(self):\n",
    "        return list(self.graph.edges)\n",
    "    \n",
    "    @property\n",
    "    def layout_function(self):\n",
    "        try:\n",
    "            f = getattr(nx.layout, self.layout_method)\n",
    "        except AttributeError:\n",
    "            layout_functions = [a for a in dir(nx.layout) if 'layout' in a]\n",
    "            error_string = f'''{self.layout_method} not found in networkx.layout module; \n",
    "\n",
    "choose from {layout_functions}\n",
    "            '''\n",
    "            print(error_string)\n",
    "        return f\n",
    "    \n",
    "    @functools.lru_cache\n",
    "    def get_layout(self, *args, **kwargs):\n",
    "        self._nodes = self.layout_function(\n",
    "            self.graph,\n",
    "            scale=self.scale,\n",
    "            center=self.center,\n",
    "            *args, **kwargs)\n",
    "    \n",
    "    @property\n",
    "    def nodes(self):\n",
    "        if self._nodes is None:\n",
    "            self.get_layout()\n",
    "        return self._nodes\n",
    "    \n",
    "    @property\n",
    "    def node_pts(self):\n",
    "        return {k:Point(xy) for k, xy in self.nodes.items()}\n",
    "    \n",
    "    @property\n",
    "    def pts(self):\n",
    "        return MultiPoint([p for p in self.node_pts.values()])\n",
    "    \n",
    "    @property\n",
    "    def lines(self):\n",
    "        lines = []\n",
    "        for n0,n1 in self.edges:\n",
    "            p0 = self.node_pts[n0]\n",
    "            p1 = self.node_pts[n1]\n",
    "            lines.append(LineString([p0, p1]))\n",
    "        return MultiLineString(lines)    \n",
    "        "
   ]
  },
  {
   "cell_type": "code",
   "execution_count": null,
   "metadata": {
    "Collapsed": "false"
   },
   "outputs": [],
   "source": [
    "paper_size = 'A2'\n",
    "border:float=30\n",
    "paper = utils.Paper(paper_size)\n",
    "\n",
    "drawbox = paper.get_drawbox(border)\n",
    "buffer_style = 2"
   ]
  },
  {
   "cell_type": "code",
   "execution_count": null,
   "metadata": {
    "Collapsed": "false"
   },
   "outputs": [],
   "source": [
    "stp = gp.ScaleTransPrms(d_buffer=-0.8,angles=45,d_translate_factor=0.7)\n",
    "stp.d_buffers += np.random.uniform(-0.04, 0.04, size=stp.d_buffers.shape)"
   ]
  },
  {
   "cell_type": "code",
   "execution_count": null,
   "metadata": {
    "Collapsed": "false"
   },
   "outputs": [],
   "source": [
    "fills = []\n",
    "for p in polymerge:\n",
    "    P = gp.Poly(p)\n",
    "    P.fill_scale_trans(**stp.prms)\n",
    "    fills.append(P.fill)"
   ]
  },
  {
   "cell_type": "code",
   "execution_count": null,
   "metadata": {
    "Collapsed": "false"
   },
   "outputs": [],
   "source": [
    "layer1 = gp.merge_LineStrings(fills)"
   ]
  },
  {
   "cell_type": "code",
   "execution_count": null,
   "metadata": {},
   "outputs": [],
   "source": [
    "layer1"
   ]
  },
  {
   "cell_type": "code",
   "execution_count": null,
   "metadata": {},
   "outputs": [],
   "source": [
    "%%time\n",
    "bd = 0.001\n",
    "l1b = layer1.buffer(bd, cap_style=1, join_style=1, resolution=16).buffer(-bd, cap_style=1, join_style=1).boundary"
   ]
  },
  {
   "cell_type": "markdown",
   "metadata": {
    "Collapsed": "false"
   },
   "source": [
    "# strogatz"
   ]
  },
  {
   "cell_type": "code",
   "execution_count": null,
   "metadata": {
    "Collapsed": "false"
   },
   "outputs": [],
   "source": [
    "# make page\n",
    "paper_size = '23.42x16.92 inches'\n",
    "border:float=35\n",
    "paper = utils.Paper(paper_size)\n",
    "\n",
    "drawbox = paper.get_drawbox(border).buffer(-50)"
   ]
  },
  {
   "cell_type": "code",
   "execution_count": null,
   "metadata": {
    "Collapsed": "false"
   },
   "outputs": [],
   "source": [
    "DEGREE = 33\n",
    "SCALE = 60\n",
    "(xbins, ybins), (xs, ys) = gp.overlay_grid(drawbox, xstep=40, ystep=40, flatmesh=True)"
   ]
  },
  {
   "cell_type": "code",
   "execution_count": null,
   "metadata": {
    "Collapsed": "false"
   },
   "outputs": [],
   "source": [
    "p_gen = lambda x: np.interp(x, [xs.min(), xs.max()], [0., 0.6] )\n",
    "_p_gen = gp.make_callable(p_gen)"
   ]
  },
  {
   "cell_type": "code",
   "execution_count": null,
   "metadata": {
    "Collapsed": "false"
   },
   "outputs": [],
   "source": [
    "k_gen = 2\n",
    "_k_gen = gp.make_callable(k_gen)"
   ]
  },
  {
   "cell_type": "code",
   "execution_count": null,
   "metadata": {
    "Collapsed": "false"
   },
   "outputs": [],
   "source": [
    "df = pd.DataFrame({\n",
    "    'x':xs,\n",
    "    'y':ys,\n",
    "    'k':_k_gen(xs),\n",
    "    'p':_p_gen(xs)\n",
    "})\n",
    "df['k'] = df['k'].astype(int)"
   ]
  },
  {
   "cell_type": "code",
   "execution_count": null,
   "metadata": {
    "Collapsed": "false"
   },
   "outputs": [],
   "source": [
    "new_rows = []\n",
    "for i, row in df.iterrows():\n",
    "    k = row['k'].astype(int)\n",
    "    G = nx.connected_watts_strogatz_graph(n=DEGREE, k=k, p=row['p'])\n",
    "    gg = GraphGram(graph=G, layout_method='spring_layout',\n",
    "                   xoff=row['x'], yoff=row['y'], scale=SCALE)\n",
    "    \n",
    "    bezs = []\n",
    "    for ls in gg.lines:\n",
    "        bez = gp.LineString_to_jittered_bezier(\n",
    "            ls, xstd=0., ystd=0., normalized=True, n_eval_points=4)\n",
    "        bezs.append(bez)\n",
    "    bezs = gp.merge_LineStrings(bezs)\n",
    "    new_row = row.to_dict()\n",
    "    new_row['geometry'] = bezs\n",
    "    new_rows.append(new_row)\n",
    "    \n",
    "gdf = geopandas.GeoDataFrame(new_rows)\n",
    "layers = []\n",
    "layers.append(gp.merge_LineStrings(gdf.geometry))"
   ]
  },
  {
   "cell_type": "code",
   "execution_count": null,
   "metadata": {},
   "outputs": [],
   "source": [
    "buffer_gen = ss.uniform(loc=2, scale=7).rvs\n",
    "d_buffer_gen = functools.partial(np.random.uniform, low=-1., high=-0.3)\n",
    "angles_gen = ss.uniform(loc=0, scale=360).rvs\n",
    "angles_gen = gp.make_callable(80)\n",
    "d_translate_factor_gen = ss.uniform(loc=0.2, scale=0.7).rvs"
   ]
  },
  {
   "cell_type": "code",
   "execution_count": null,
   "metadata": {},
   "outputs": [],
   "source": [
    "fills = []\n",
    "all_polys = Polygon()\n",
    "for i, row in gdf.iterrows():\n",
    "    p = row.geometry.buffer(0.5, cap_style=2, join_style=3)\n",
    "    p = p.buffer(buffer_gen(), cap_style=2, join_style=2)\n",
    "    \n",
    "    stp = gp.ScaleTransPrms(d_buffer=d_buffer_gen(),angles=angles_gen(),d_translate_factor=d_translate_factor_gen(), n_iters=300)\n",
    "    stp.d_buffers += np.random.uniform(-0.15, 0.15, size=stp.d_buffers.shape)\n",
    "    P = gp.Poly(p)\n",
    "    P.fill_scale_trans(**stp.prms)\n",
    "    visible_area = p.difference(all_polys)\n",
    "    visible_fill = P.fill.intersection(visible_area.buffer(1e-6))\n",
    "        \n",
    "    \n",
    "    fills.append(visible_fill)\n",
    "    all_polys = so.unary_union([all_polys, p])"
   ]
  },
  {
   "cell_type": "code",
   "execution_count": null,
   "metadata": {},
   "outputs": [],
   "source": [
    "all_fills = gp.merge_LineStrings(fills)"
   ]
  },
  {
   "cell_type": "code",
   "execution_count": null,
   "metadata": {},
   "outputs": [],
   "source": []
  },
  {
   "cell_type": "code",
   "execution_count": null,
   "metadata": {
    "Collapsed": "false"
   },
   "outputs": [],
   "source": [
    "sk = vsketch.Vsketch()\n",
    "sk.size(paper.page_format_mm)\n",
    "sk.scale('1mm')\n",
    "sk.stroke(1)\n",
    "sk.geometry(all_fills)\n",
    "\n",
    "tolerance= 0.1\n",
    "sk.vpype(f'linemerge --tolerance {tolerance}mm linesimplify --tolerance {tolerance}mm linesort')\n",
    "\n",
    "sk.display()"
   ]
  },
  {
   "cell_type": "code",
   "execution_count": null,
   "metadata": {},
   "outputs": [],
   "source": []
  },
  {
   "cell_type": "code",
   "execution_count": null,
   "metadata": {},
   "outputs": [],
   "source": [
    "savepath = '/Users/naka/code/side/plotter_images/oned_outputs/0312_flow_beam_graphs.svg'\n",
    "\n",
    "sk.save(savepath)"
   ]
  },
  {
   "cell_type": "code",
   "execution_count": null,
   "metadata": {},
   "outputs": [],
   "source": [
    "morsed = all_fills.buffer(1e-4, cap_style=2, join_style=2).buffer(-1e-4, cap_style=2, join_style=2)"
   ]
  },
  {
   "cell_type": "markdown",
   "metadata": {},
   "source": [
    "# Try 3"
   ]
  },
  {
   "cell_type": "code",
   "execution_count": null,
   "metadata": {
    "Collapsed": "false"
   },
   "outputs": [],
   "source": [
    "# make page\n",
    "paper_size = 'A2'\n",
    "border:float=35\n",
    "paper = utils.Paper(paper_size)\n",
    "\n",
    "drawbox = paper.get_drawbox(border).buffer(-60)"
   ]
  },
  {
   "cell_type": "code",
   "execution_count": null,
   "metadata": {
    "Collapsed": "false"
   },
   "outputs": [],
   "source": [
    "DEGREE = 33\n",
    "SCALE = 60\n",
    "(xbins, ybins), (xs, ys) = gp.overlay_grid(drawbox, xstep=20, ystep=20, flatmesh=True)"
   ]
  },
  {
   "cell_type": "code",
   "execution_count": null,
   "metadata": {
    "Collapsed": "false"
   },
   "outputs": [],
   "source": [
    "p_gen = lambda x: np.interp(x, [xs.min(), xs.max()], [0., 0.6] )\n",
    "_p_gen = gp.make_callable(p_gen)"
   ]
  },
  {
   "cell_type": "code",
   "execution_count": null,
   "metadata": {
    "Collapsed": "false"
   },
   "outputs": [],
   "source": [
    "k_gen = 2\n",
    "_k_gen = gp.make_callable(k_gen)"
   ]
  },
  {
   "cell_type": "code",
   "execution_count": null,
   "metadata": {
    "Collapsed": "false"
   },
   "outputs": [],
   "source": [
    "df = pd.DataFrame({\n",
    "    'x':xs,\n",
    "    'y':ys,\n",
    "    'k':_k_gen(xs),\n",
    "    'p':_p_gen(xs)\n",
    "})\n",
    "df['k'] = df['k'].astype(int)"
   ]
  },
  {
   "cell_type": "code",
   "execution_count": null,
   "metadata": {
    "Collapsed": "false"
   },
   "outputs": [],
   "source": [
    "new_rows = []\n",
    "for i, row in df.iterrows():\n",
    "    k = row['k'].astype(int)\n",
    "    G = nx.connected_watts_strogatz_graph(n=DEGREE, k=k, p=row['p'])\n",
    "    gg = GraphGram(graph=G, layout_method='spring_layout',\n",
    "                   xoff=row['x'], yoff=row['y'], scale=SCALE)\n",
    "    \n",
    "    bezs = []\n",
    "    for ls in gg.lines:\n",
    "        bez = gp.LineString_to_jittered_bezier(\n",
    "            ls, xstd=0., ystd=0., normalized=True, n_eval_points=4)\n",
    "        bezs.append(bez)\n",
    "    bezs = gp.merge_LineStrings(bezs)\n",
    "    new_row = row.to_dict()\n",
    "    new_row['geometry'] = bezs\n",
    "    new_rows.append(new_row)\n",
    "    \n",
    "gdf = geopandas.GeoDataFrame(new_rows)\n",
    "layers = []\n",
    "layers.append(gp.merge_LineStrings(gdf.geometry))"
   ]
  },
  {
   "cell_type": "code",
   "execution_count": null,
   "metadata": {},
   "outputs": [],
   "source": [
    "buffer_gen = ss.uniform(loc=1, scale=6).rvs\n",
    "d_buffer_gen = functools.partial(np.random.uniform, low=-0.8, high=-0.2)\n",
    "angles_gen = ss.uniform(loc=0, scale=360).rvs\n",
    "angles_gen = gp.make_callable(80)\n",
    "d_translate_factor_gen = ss.uniform(loc=0.2, scale=0.6).rvs"
   ]
  },
  {
   "cell_type": "code",
   "execution_count": null,
   "metadata": {},
   "outputs": [],
   "source": [
    "fills = []\n",
    "all_polys = Polygon()\n",
    "for i, row in gdf.iterrows():\n",
    "    p = row.geometry.buffer(0.5, cap_style=2, join_style=3)\n",
    "    p = p.buffer(buffer_gen(), cap_style=2, join_style=2)\n",
    "    \n",
    "    stp = gp.ScaleTransPrms(d_buffer=d_buffer_gen(),angles=angles_gen(),d_translate_factor=d_translate_factor_gen(), n_iters=300)\n",
    "    stp.d_buffers += np.random.uniform(-0.15, 0.15, size=stp.d_buffers.shape)\n",
    "    P = gp.Poly(p)\n",
    "    P.fill_scale_trans(**stp.prms)\n",
    "    visible_area = p.difference(all_polys)\n",
    "    visible_fill = P.fill.intersection(visible_area.buffer(1e-6))\n",
    "        \n",
    "    \n",
    "    fills.append(visible_fill)\n",
    "    all_polys = so.unary_union([all_polys, p])"
   ]
  },
  {
   "cell_type": "code",
   "execution_count": null,
   "metadata": {},
   "outputs": [],
   "source": [
    "all_fills = gp.merge_LineStrings(fills)"
   ]
  },
  {
   "cell_type": "code",
   "execution_count": null,
   "metadata": {
    "Collapsed": "false"
   },
   "outputs": [],
   "source": [
    "sk = vsketch.Vsketch()\n",
    "sk.size(paper.page_format_mm)\n",
    "sk.scale('1mm')\n",
    "sk.stroke(1)\n",
    "sk.geometry(all_fills)\n",
    "\n",
    "tolerance= 0.1\n",
    "sk.vpype(f'linemerge --tolerance {tolerance}mm linesimplify --tolerance {tolerance}mm')\n",
    "sk.vpype(f'linemerge --tolerance {tolerance}mm linesimplify --tolerance {tolerance}mm')\n",
    "sk.vpype('linesort')\n",
    "sk.display()"
   ]
  },
  {
   "cell_type": "code",
   "execution_count": null,
   "metadata": {},
   "outputs": [],
   "source": [
    "savepath = '/Users/naka/code/side/plotter_images/oned_outputs/0313_flow_beam_graphs_simpler.svg'\n",
    "\n",
    "sk.save(savepath)"
   ]
  },
  {
   "cell_type": "markdown",
   "metadata": {},
   "source": [
    "# Try 2"
   ]
  },
  {
   "cell_type": "code",
   "execution_count": null,
   "metadata": {
    "Collapsed": "false"
   },
   "outputs": [],
   "source": [
    "# make page\n",
    "paper_size = 'A2'\n",
    "border:float=35\n",
    "paper = utils.Paper(paper_size)\n",
    "\n",
    "drawbox = paper.get_drawbox(border).buffer(-60)"
   ]
  },
  {
   "cell_type": "code",
   "execution_count": null,
   "metadata": {
    "Collapsed": "false"
   },
   "outputs": [],
   "source": [
    "DEGREE = 33\n",
    "SCALE = 40\n",
    "(xbins, ybins), (xs, ys) = gp.overlay_grid(drawbox, xstep=30, ystep=30, flatmesh=True)"
   ]
  },
  {
   "cell_type": "code",
   "execution_count": null,
   "metadata": {
    "Collapsed": "false"
   },
   "outputs": [],
   "source": [
    "p_gen = lambda x: np.interp(x, [xs.min(), xs.max()], [0., 0.6] )\n",
    "_p_gen = gp.make_callable(p_gen)"
   ]
  },
  {
   "cell_type": "code",
   "execution_count": null,
   "metadata": {
    "Collapsed": "false"
   },
   "outputs": [],
   "source": [
    "k_gen = 2\n",
    "_k_gen = gp.make_callable(k_gen)"
   ]
  },
  {
   "cell_type": "code",
   "execution_count": null,
   "metadata": {
    "Collapsed": "false"
   },
   "outputs": [],
   "source": [
    "df = pd.DataFrame({\n",
    "    'x':xs,\n",
    "    'y':ys,\n",
    "    'k':_k_gen(xs),\n",
    "    'p':_p_gen(xs)\n",
    "})\n",
    "df['k'] = df['k'].astype(int)"
   ]
  },
  {
   "cell_type": "code",
   "execution_count": null,
   "metadata": {
    "Collapsed": "false"
   },
   "outputs": [],
   "source": [
    "new_rows = []\n",
    "for i, row in df.iterrows():\n",
    "    k = row['k'].astype(int)\n",
    "    G = nx.connected_watts_strogatz_graph(n=DEGREE, k=k, p=row['p'])\n",
    "    gg = GraphGram(graph=G, layout_method='spring_layout',\n",
    "                   xoff=row['x'], yoff=row['y'], scale=SCALE)\n",
    "    \n",
    "    bezs = []\n",
    "    for ls in gg.lines:\n",
    "        bez = gp.LineString_to_jittered_bezier(\n",
    "            ls, xstd=0., ystd=0., normalized=True, n_eval_points=4)\n",
    "        bezs.append(bez)\n",
    "    bezs = gp.merge_LineStrings(bezs)\n",
    "    new_row = row.to_dict()\n",
    "    new_row['geometry'] = bezs\n",
    "    new_rows.append(new_row)\n",
    "    \n",
    "gdf = geopandas.GeoDataFrame(new_rows)\n",
    "layers = []\n",
    "layers.append(gp.merge_LineStrings(gdf.geometry))"
   ]
  },
  {
   "cell_type": "code",
   "execution_count": null,
   "metadata": {},
   "outputs": [],
   "source": [
    "buffer_gen = ss.uniform(loc=4, scale=9).rvs\n",
    "d_buffer_gen = functools.partial(np.random.uniform, low=-2.2, high=-1.1)\n",
    "angles_gen = ss.uniform(loc=0, scale=360).rvs\n",
    "angles_gen = gp.make_callable(80)\n",
    "d_translate_factor_gen = ss.uniform(loc=0.2, scale=0.6).rvs"
   ]
  },
  {
   "cell_type": "code",
   "execution_count": null,
   "metadata": {},
   "outputs": [],
   "source": [
    "fills = []\n",
    "all_polys = Polygon()\n",
    "for i, row in gdf.iterrows():\n",
    "    p = row.geometry.buffer(0.5, cap_style=1, join_style=1)\n",
    "    p = p.buffer(buffer_gen(), cap_style=2, join_style=2)\n",
    "    \n",
    "    stp = gp.ScaleTransPrms(d_buffer=d_buffer_gen(),angles=angles_gen(),d_translate_factor=d_translate_factor_gen(), n_iters=300)\n",
    "    stp.d_buffers += np.random.uniform(-0.15, 0.15, size=stp.d_buffers.shape)\n",
    "    P = gp.Poly(p)\n",
    "    P.fill_scale_trans(**stp.prms)\n",
    "    \n",
    "    visible_area = p.difference(all_polys)\n",
    "    visible_fill = P.fill.intersection(visible_area.buffer(1e-6))\n",
    "        \n",
    "    \n",
    "    fills.append(visible_fill)\n",
    "    all_polys = so.unary_union([all_polys, p])"
   ]
  },
  {
   "cell_type": "code",
   "execution_count": null,
   "metadata": {},
   "outputs": [],
   "source": [
    "fills = [f for f in fills if f.length > 0]"
   ]
  },
  {
   "cell_type": "code",
   "execution_count": null,
   "metadata": {},
   "outputs": [],
   "source": [
    "all_fills = gp.merge_LineStrings(fills)"
   ]
  },
  {
   "cell_type": "code",
   "execution_count": null,
   "metadata": {},
   "outputs": [],
   "source": [
    "fb = all_fills.buffer(0.2).boundary"
   ]
  },
  {
   "cell_type": "code",
   "execution_count": null,
   "metadata": {},
   "outputs": [],
   "source": [
    "fbm =  all_fills.buffer(0.2).buffer(-0.2).boundary"
   ]
  },
  {
   "cell_type": "code",
   "execution_count": null,
   "metadata": {},
   "outputs": [],
   "source": [
    "fbm = gp.merge_LineStrings([f for f in fbm if f.length>0.1])"
   ]
  },
  {
   "cell_type": "code",
   "execution_count": null,
   "metadata": {},
   "outputs": [],
   "source": [
    "fbmb = fbm.buffer(0.2, cap_style=2, join_style=2).boundary"
   ]
  },
  {
   "cell_type": "code",
   "execution_count": null,
   "metadata": {
    "Collapsed": "false"
   },
   "outputs": [],
   "source": [
    "sk = vsketch.Vsketch()\n",
    "sk.size(paper.page_format_mm)\n",
    "sk.scale('1mm')\n",
    "sk.stroke(1)\n",
    "# sk.geometry(all_fills)\n",
    "sk.geometry(fbmb)\n",
    "# sk.vpype('splitall')\n",
    "# for tolerance in [0.1, 0.2, 0.4, 0.8, 1]:\n",
    "#     sk.vpype(f'linemerge --tolerance {tolerance}mm ')\n",
    "# sk.vpype('linesort')\n",
    "sk.display()"
   ]
  },
  {
   "cell_type": "code",
   "execution_count": null,
   "metadata": {},
   "outputs": [],
   "source": [
    "savepath = '/Users/naka/code/side/plotter_images/oned_outputs/0316_flow_beam_graphs_morsed_connected.svg'\n",
    "\n",
    "sk.save(savepath)"
   ]
  },
  {
   "cell_type": "code",
   "execution_count": null,
   "metadata": {},
   "outputs": [],
   "source": []
  },
  {
   "cell_type": "markdown",
   "metadata": {},
   "source": [
    "# Try 2"
   ]
  },
  {
   "cell_type": "code",
   "execution_count": null,
   "metadata": {
    "Collapsed": "false"
   },
   "outputs": [],
   "source": [
    "# make page\n",
    "paper_size = '11x14 inches'\n",
    "border:float=35\n",
    "paper = utils.Paper(paper_size)\n",
    "\n",
    "drawbox = paper.get_drawbox(border).buffer(-10)"
   ]
  },
  {
   "cell_type": "code",
   "execution_count": null,
   "metadata": {
    "Collapsed": "false"
   },
   "outputs": [],
   "source": [
    "DEGREE = 33\n",
    "SCALE = 30\n",
    "(xbins, ybins), (xs, ys) = gp.overlay_grid(drawbox, xstep=30, ystep=30, flatmesh=True)"
   ]
  },
  {
   "cell_type": "code",
   "execution_count": null,
   "metadata": {
    "Collapsed": "false"
   },
   "outputs": [],
   "source": [
    "p_gen = lambda x: np.interp(x, [xs.min(), xs.max()], [0., 0.6] )\n",
    "_p_gen = gp.make_callable(p_gen)"
   ]
  },
  {
   "cell_type": "code",
   "execution_count": null,
   "metadata": {
    "Collapsed": "false"
   },
   "outputs": [],
   "source": [
    "k_gen = 2\n",
    "_k_gen = gp.make_callable(k_gen)"
   ]
  },
  {
   "cell_type": "code",
   "execution_count": null,
   "metadata": {
    "Collapsed": "false"
   },
   "outputs": [],
   "source": [
    "df = pd.DataFrame({\n",
    "    'x':xs,\n",
    "    'y':ys,\n",
    "    'k':_k_gen(xs),\n",
    "    'p':_p_gen(xs)\n",
    "})\n",
    "df['k'] = df['k'].astype(int)"
   ]
  },
  {
   "cell_type": "code",
   "execution_count": null,
   "metadata": {
    "Collapsed": "false"
   },
   "outputs": [],
   "source": [
    "new_rows = []\n",
    "for i, row in df.iterrows():\n",
    "    k = row['k'].astype(int)\n",
    "    G = nx.connected_watts_strogatz_graph(n=DEGREE, k=k, p=row['p'])\n",
    "    gg = GraphGram(graph=G, layout_method='spring_layout',\n",
    "                   xoff=row['x'], yoff=row['y'], scale=SCALE)\n",
    "    \n",
    "    bezs = []\n",
    "    for ls in gg.lines:\n",
    "        bez = gp.LineString_to_jittered_bezier(\n",
    "            ls, xstd=0., ystd=0., normalized=True, n_eval_points=4)\n",
    "        bezs.append(bez)\n",
    "    bezs = gp.merge_LineStrings(bezs)\n",
    "    new_row = row.to_dict()\n",
    "    new_row['geometry'] = bezs\n",
    "    new_rows.append(new_row)\n",
    "    \n",
    "gdf = geopandas.GeoDataFrame(new_rows)\n",
    "layers = []\n",
    "layers.append(gp.merge_LineStrings(gdf.geometry))"
   ]
  },
  {
   "cell_type": "code",
   "execution_count": null,
   "metadata": {},
   "outputs": [],
   "source": [
    "buffer_gen = ss.uniform(loc=2, scale=6).rvs\n",
    "d_buffer_gen = functools.partial(np.random.uniform, low=-2.2, high=-1.1)\n",
    "angles_gen = ss.uniform(loc=0, scale=360).rvs\n",
    "angles_gen = gp.make_callable(80)\n",
    "d_translate_factor_gen = ss.uniform(loc=0.2, scale=0.6).rvs"
   ]
  },
  {
   "cell_type": "code",
   "execution_count": null,
   "metadata": {},
   "outputs": [],
   "source": [
    "fills = []\n",
    "all_polys = Polygon()\n",
    "for i, row in gdf.iterrows():\n",
    "    p = row.geometry.buffer(0.5, cap_style=1, join_style=1)\n",
    "    p = p.buffer(buffer_gen(), cap_style=2, join_style=2)\n",
    "    \n",
    "    stp = gp.ScaleTransPrms(d_buffer=d_buffer_gen(),angles=angles_gen(),d_translate_factor=d_translate_factor_gen(), n_iters=300)\n",
    "    stp.d_buffers += np.random.uniform(-0.15, 0.15, size=stp.d_buffers.shape)\n",
    "    P = gp.Poly(p)\n",
    "    P.fill_scale_trans(**stp.prms)\n",
    "    \n",
    "    visible_area = p.difference(all_polys)\n",
    "    visible_fill = P.fill.intersection(visible_area.buffer(1e-6))\n",
    "        \n",
    "    \n",
    "    fills.append(visible_fill)\n",
    "    all_polys = so.unary_union([all_polys, p])"
   ]
  },
  {
   "cell_type": "code",
   "execution_count": null,
   "metadata": {},
   "outputs": [],
   "source": [
    "fills = [f for f in fills if f.length > 0]"
   ]
  },
  {
   "cell_type": "code",
   "execution_count": null,
   "metadata": {},
   "outputs": [],
   "source": [
    "all_fills = gp.merge_LineStrings(fills)"
   ]
  },
  {
   "cell_type": "code",
   "execution_count": null,
   "metadata": {},
   "outputs": [],
   "source": [
    "fb = all_fills.buffer(0.2).boundary"
   ]
  },
  {
   "cell_type": "code",
   "execution_count": null,
   "metadata": {},
   "outputs": [],
   "source": [
    "fbm =  all_fills.buffer(0.2).buffer(-0.2).boundary"
   ]
  },
  {
   "cell_type": "code",
   "execution_count": null,
   "metadata": {},
   "outputs": [],
   "source": [
    "fbm = gp.merge_LineStrings([f for f in fbm if f.length>0.1])"
   ]
  },
  {
   "cell_type": "code",
   "execution_count": null,
   "metadata": {},
   "outputs": [],
   "source": [
    "fbmb = fbm.buffer(0.2, cap_style=2, join_style=2).boundary"
   ]
  },
  {
   "cell_type": "code",
   "execution_count": null,
   "metadata": {
    "Collapsed": "false"
   },
   "outputs": [],
   "source": [
    "sk = vsketch.Vsketch()\n",
    "sk.size(paper.page_format_mm)\n",
    "sk.scale('1mm')\n",
    "sk.stroke(1)\n",
    "# sk.geometry(all_fills)\n",
    "sk.geometry(fbmb)\n",
    "sk.vpype('splitall')\n",
    "for tolerance in tqdm([0.1, 0.2, ]):\n",
    "    sk.vpype(f'linemerge --tolerance {tolerance}mm ')\n",
    "sk.vpype('linesort')\n",
    "sk.display()"
   ]
  },
  {
   "cell_type": "code",
   "execution_count": null,
   "metadata": {},
   "outputs": [],
   "source": [
    "savepath = '/Users/naka/code/side/plotter_images/oned_outputs/0317_flow_beam_graphs_morsed_connected.svg'\n",
    "\n",
    "sk.save(savepath)"
   ]
  },
  {
   "cell_type": "code",
   "execution_count": null,
   "metadata": {},
   "outputs": [],
   "source": []
  },
  {
   "cell_type": "markdown",
   "metadata": {},
   "source": [
    "# Try 2"
   ]
  },
  {
   "cell_type": "code",
   "execution_count": null,
   "metadata": {
    "Collapsed": "false"
   },
   "outputs": [],
   "source": [
    "# make page\n",
    "paper_size = '11x14 inches'\n",
    "border:float=35\n",
    "paper = utils.Paper(paper_size)\n",
    "\n",
    "drawbox = paper.get_drawbox(border).buffer(-20)"
   ]
  },
  {
   "cell_type": "code",
   "execution_count": null,
   "metadata": {
    "Collapsed": "false"
   },
   "outputs": [],
   "source": [
    "DEGREE = 33\n",
    "SCALE = 30\n",
    "(xbins, ybins), (xs, ys) = gp.overlay_grid(drawbox, xstep=60, ystep=60, flatmesh=True)"
   ]
  },
  {
   "cell_type": "code",
   "execution_count": null,
   "metadata": {
    "Collapsed": "false"
   },
   "outputs": [],
   "source": [
    "p_gen = lambda x: np.interp(x, [xs.min(), xs.max()], [0., 0.6] )\n",
    "_p_gen = gp.make_callable(p_gen)"
   ]
  },
  {
   "cell_type": "code",
   "execution_count": null,
   "metadata": {
    "Collapsed": "false"
   },
   "outputs": [],
   "source": [
    "k_gen = 2\n",
    "_k_gen = gp.make_callable(k_gen)"
   ]
  },
  {
   "cell_type": "code",
   "execution_count": null,
   "metadata": {
    "Collapsed": "false"
   },
   "outputs": [],
   "source": [
    "df = pd.DataFrame({\n",
    "    'x':xs,\n",
    "    'y':ys,\n",
    "    'k':_k_gen(xs),\n",
    "    'p':_p_gen(xs)\n",
    "})\n",
    "df['k'] = df['k'].astype(int)"
   ]
  },
  {
   "cell_type": "code",
   "execution_count": null,
   "metadata": {
    "Collapsed": "false"
   },
   "outputs": [],
   "source": [
    "new_rows = []\n",
    "for i, row in df.iterrows():\n",
    "    k = row['k'].astype(int)\n",
    "    G = nx.connected_watts_strogatz_graph(n=DEGREE, k=k, p=row['p'])\n",
    "    gg = GraphGram(graph=G, layout_method='spring_layout',\n",
    "                   xoff=row['x'], yoff=row['y'], scale=SCALE)\n",
    "    \n",
    "    bezs = []\n",
    "    for ls in gg.lines:\n",
    "        bez = gp.LineString_to_jittered_bezier(\n",
    "            ls, xstd=0., ystd=0., normalized=True, n_eval_points=4)\n",
    "        bezs.append(bez)\n",
    "    bezs = gp.merge_LineStrings(bezs)\n",
    "    new_row = row.to_dict()\n",
    "    new_row['geometry'] = bezs\n",
    "    new_rows.append(new_row)\n",
    "    \n",
    "gdf = geopandas.GeoDataFrame(new_rows)\n",
    "layers = []\n",
    "layers.append(gp.merge_LineStrings(gdf.geometry))"
   ]
  },
  {
   "cell_type": "code",
   "execution_count": null,
   "metadata": {},
   "outputs": [],
   "source": [
    "buffer_gen = ss.uniform(loc=2, scale=6).rvs\n",
    "d_buffer_gen = functools.partial(np.random.uniform, low=-2.2, high=-0.3)\n",
    "angles_gen = ss.uniform(loc=0, scale=360).rvs\n",
    "angles_gen = gp.make_callable(80)\n",
    "d_translate_factor_gen = ss.uniform(loc=0.2, scale=0.6).rvs"
   ]
  },
  {
   "cell_type": "code",
   "execution_count": null,
   "metadata": {},
   "outputs": [],
   "source": [
    "fills = []\n",
    "all_polys = Polygon()\n",
    "for i, row in gdf.iterrows():\n",
    "    p = row.geometry.buffer(0.5, cap_style=1, join_style=1)\n",
    "    p = p.buffer(buffer_gen(), cap_style=2, join_style=2)\n",
    "    \n",
    "    stp = gp.ScaleTransPrms(d_buffer=d_buffer_gen(),angles=angles_gen(),d_translate_factor=d_translate_factor_gen(), n_iters=300)\n",
    "    stp.d_buffers += np.random.uniform(-0.15, 0.15, size=stp.d_buffers.shape)\n",
    "    P = gp.Poly(p)\n",
    "    P.fill_scale_trans(**stp.prms)\n",
    "    \n",
    "    visible_area = p.difference(all_polys)\n",
    "    visible_fill = P.fill.intersection(visible_area.buffer(1e-6))\n",
    "        \n",
    "    \n",
    "    fills.append(visible_fill)\n",
    "    all_polys = so.unary_union([all_polys, p])"
   ]
  },
  {
   "cell_type": "code",
   "execution_count": null,
   "metadata": {},
   "outputs": [],
   "source": [
    "fills = [f for f in fills if f.length > 0]"
   ]
  },
  {
   "cell_type": "code",
   "execution_count": null,
   "metadata": {},
   "outputs": [],
   "source": [
    "all_fills = gp.merge_LineStrings(fills)"
   ]
  },
  {
   "cell_type": "code",
   "execution_count": null,
   "metadata": {},
   "outputs": [],
   "source": [
    "fb = all_fills.buffer(0.2).boundary"
   ]
  },
  {
   "cell_type": "code",
   "execution_count": null,
   "metadata": {},
   "outputs": [],
   "source": [
    "fbm =  all_fills.buffer(0.2).buffer(-0.2).boundary"
   ]
  },
  {
   "cell_type": "code",
   "execution_count": null,
   "metadata": {},
   "outputs": [],
   "source": [
    "fbm = gp.merge_LineStrings([f for f in fbm if f.length>0.1])"
   ]
  },
  {
   "cell_type": "code",
   "execution_count": null,
   "metadata": {},
   "outputs": [],
   "source": [
    "fbmb = fbm.buffer(0.2, cap_style=2, join_style=2).boundary"
   ]
  },
  {
   "cell_type": "code",
   "execution_count": null,
   "metadata": {
    "Collapsed": "false"
   },
   "outputs": [],
   "source": [
    "sk = vsketch.Vsketch()\n",
    "sk.size(paper.page_format_mm)\n",
    "sk.scale('1mm')\n",
    "sk.stroke(1)\n",
    "# sk.geometry(all_fills)\n",
    "sk.geometry(fbmb)\n",
    "# sk.vpype('splitall')\n",
    "# for tolerance in tqdm([0.1, 0.2, ]):\n",
    "#     sk.vpype(f'linemerge --tolerance {tolerance}mm ')\n",
    "sk.vpype('linesort')\n",
    "sk.display()"
   ]
  },
  {
   "cell_type": "code",
   "execution_count": null,
   "metadata": {},
   "outputs": [],
   "source": [
    "savepath = '/Users/naka/code/side/plotter_images/oned_outputs/0318_flow_beam_graphs_morsed_connected.svg'\n",
    "\n",
    "sk.save(savepath)"
   ]
  },
  {
   "cell_type": "code",
   "execution_count": null,
   "metadata": {},
   "outputs": [],
   "source": []
  },
  {
   "cell_type": "markdown",
   "metadata": {},
   "source": [
    "# Try 2"
   ]
  },
  {
   "cell_type": "code",
   "execution_count": null,
   "metadata": {
    "Collapsed": "false"
   },
   "outputs": [],
   "source": [
    "# make page\n",
    "paper_size = '11x14 inches'\n",
    "border:float=35\n",
    "paper = utils.Paper(paper_size)\n",
    "\n",
    "drawbox = paper.get_drawbox(border).buffer(-20)"
   ]
  },
  {
   "cell_type": "code",
   "execution_count": null,
   "metadata": {
    "Collapsed": "false"
   },
   "outputs": [],
   "source": [
    "DEGREE = 37\n",
    "SCALE = 50\n",
    "(xbins, ybins), (xs, ys) = gp.overlay_grid(drawbox, xstep=200, ystep=100, flatmesh=True)"
   ]
  },
  {
   "cell_type": "code",
   "execution_count": null,
   "metadata": {
    "Collapsed": "false"
   },
   "outputs": [],
   "source": [
    "p_gen = lambda x: np.interp(x, [xs.min(), xs.max()], [0., 0.6] )\n",
    "_p_gen = gp.make_callable(p_gen)\n",
    "_p_gen = gp.make_callable(0)"
   ]
  },
  {
   "cell_type": "code",
   "execution_count": null,
   "metadata": {
    "Collapsed": "false"
   },
   "outputs": [],
   "source": [
    "k_gen = 2\n",
    "_k_gen = gp.make_callable(k_gen)"
   ]
  },
  {
   "cell_type": "code",
   "execution_count": null,
   "metadata": {
    "Collapsed": "false"
   },
   "outputs": [],
   "source": [
    "df = pd.DataFrame({\n",
    "    'x':xs,\n",
    "    'y':ys,\n",
    "    'k':_k_gen(xs),\n",
    "    'p':_p_gen(xs)\n",
    "})\n",
    "df['k'] = df['k'].astype(int)"
   ]
  },
  {
   "cell_type": "code",
   "execution_count": null,
   "metadata": {
    "Collapsed": "false"
   },
   "outputs": [],
   "source": [
    "new_rows = []\n",
    "for i, row in df.iterrows():\n",
    "    k = row['k'].astype(int)\n",
    "    G = nx.connected_watts_strogatz_graph(n=DEGREE, k=k, p=row['p'])\n",
    "    gg = GraphGram(graph=G, layout_method='spring_layout',\n",
    "                   xoff=row['x'], yoff=row['y'], scale=SCALE)\n",
    "    \n",
    "    bezs = []\n",
    "    for ls in gg.lines:\n",
    "        bez = gp.LineString_to_jittered_bezier(\n",
    "            ls, xstd=0., ystd=0., normalized=True, n_eval_points=4)\n",
    "        bezs.append(bez)\n",
    "    bezs = gp.merge_LineStrings(bezs)\n",
    "    new_row = row.to_dict()\n",
    "    new_row['geometry'] = bezs\n",
    "    new_rows.append(new_row)\n",
    "    \n",
    "gdf = geopandas.GeoDataFrame(new_rows)\n",
    "layers = []\n",
    "layers.append(gp.merge_LineStrings(gdf.geometry))"
   ]
  },
  {
   "cell_type": "code",
   "execution_count": null,
   "metadata": {},
   "outputs": [],
   "source": [
    "buffer_gen = ss.uniform(loc=4, scale=6).rvs\n",
    "d_buffer_gen = functools.partial(np.random.uniform, low=-0.6, high=-0.4)\n",
    "angles_gen = ss.uniform(loc=0, scale=360).rvs\n",
    "angles_gen = gp.make_callable(80)\n",
    "d_translate_factor_gen = ss.uniform(loc=0.5, scale=0.8).rvs"
   ]
  },
  {
   "cell_type": "code",
   "execution_count": null,
   "metadata": {},
   "outputs": [],
   "source": [
    "fills = []\n",
    "all_polys = Polygon()\n",
    "for i, row in gdf.iterrows():\n",
    "    p = row.geometry.buffer(0.5, cap_style=1, join_style=1)\n",
    "    p = p.buffer(buffer_gen(), cap_style=2, join_style=2)\n",
    "    \n",
    "    stp = gp.ScaleTransPrms(d_buffer=d_buffer_gen(),angles=angles_gen(),d_translate_factor=d_translate_factor_gen(), n_iters=300)\n",
    "    stp.d_buffers += np.random.uniform(-0.15, 0.15, size=stp.d_buffers.shape)\n",
    "    P = gp.Poly(p)\n",
    "    P.fill_scale_trans(**stp.prms)\n",
    "    \n",
    "    visible_area = p.difference(all_polys)\n",
    "    visible_fill = P.fill.intersection(visible_area.buffer(1e-6))\n",
    "        \n",
    "    \n",
    "    fills.append(visible_fill)\n",
    "    all_polys = so.unary_union([all_polys, p])"
   ]
  },
  {
   "cell_type": "code",
   "execution_count": null,
   "metadata": {},
   "outputs": [],
   "source": [
    "fills = [f for f in fills if f.length > 0]"
   ]
  },
  {
   "cell_type": "code",
   "execution_count": null,
   "metadata": {},
   "outputs": [],
   "source": [
    "all_fills = gp.merge_LineStrings(fills)"
   ]
  },
  {
   "cell_type": "code",
   "execution_count": null,
   "metadata": {},
   "outputs": [],
   "source": [
    "fb = all_fills.buffer(0.2).boundary"
   ]
  },
  {
   "cell_type": "code",
   "execution_count": null,
   "metadata": {},
   "outputs": [],
   "source": [
    "fbm =  all_fills.buffer(0.2).buffer(-0.2).boundary"
   ]
  },
  {
   "cell_type": "code",
   "execution_count": null,
   "metadata": {},
   "outputs": [],
   "source": [
    "fbm = gp.merge_LineStrings([f for f in fbm if f.length>0.1])"
   ]
  },
  {
   "cell_type": "code",
   "execution_count": null,
   "metadata": {},
   "outputs": [],
   "source": [
    "fbmb = fbm.buffer(0.2, cap_style=2, join_style=2).boundary"
   ]
  },
  {
   "cell_type": "code",
   "execution_count": null,
   "metadata": {
    "Collapsed": "false"
   },
   "outputs": [],
   "source": [
    "sk = vsketch.Vsketch()\n",
    "sk.size(paper.page_format_mm)\n",
    "sk.scale('1mm')\n",
    "sk.stroke(1)\n",
    "sk.geometry(all_fills)\n",
    "sk.geometry(fbmb)\n",
    "sk.vpype('splitall')\n",
    "for tolerance in tqdm([0.1, 0.2, ]):\n",
    "    sk.vpype(f'linemerge --tolerance {tolerance}mm ')\n",
    "sk.vpype('linesort')\n",
    "sk.display()"
   ]
  },
  {
   "cell_type": "code",
   "execution_count": null,
   "metadata": {},
   "outputs": [],
   "source": [
    "savepath = '/Users/naka/code/side/plotter_images/oned_outputs/0319_flow_beam_graphs_morsed_connected.svg'\n",
    "\n",
    "sk.save(savepath)"
   ]
  },
  {
   "cell_type": "code",
   "execution_count": null,
   "metadata": {},
   "outputs": [],
   "source": []
  },
  {
   "cell_type": "markdown",
   "metadata": {},
   "source": [
    "# bezier seed"
   ]
  },
  {
   "cell_type": "code",
   "execution_count": null,
   "metadata": {
    "Collapsed": "false"
   },
   "outputs": [],
   "source": [
    "# make page\n",
    "paper_size = '11x14 inches'\n",
    "border:float=20\n",
    "paper = utils.Paper(paper_size)\n",
    "\n",
    "drawbox = paper.get_drawbox(border)"
   ]
  },
  {
   "cell_type": "code",
   "execution_count": null,
   "metadata": {},
   "outputs": [],
   "source": [
    "fills = gp.BezierHatchFill(\n",
    "    drawbox,\n",
    "    xjitter_func=ss.norm(loc=0, scale=0.1).rvs,\n",
    "    yjitter_func=ss.norm(loc=0., scale=0.5).rvs,\n",
    "    degrees=0,\n",
    "    spacing=1,\n",
    "    fill_inscribe_buffer=1.5,\n",
    "    n_eval_points=100\n",
    ")"
   ]
  },
  {
   "cell_type": "code",
   "execution_count": null,
   "metadata": {},
   "outputs": [],
   "source": [
    "l1 = fills.fill"
   ]
  },
  {
   "cell_type": "code",
   "execution_count": null,
   "metadata": {},
   "outputs": [],
   "source": [
    "fills = gp.BezierHatchFill(\n",
    "    drawbox,\n",
    "    xjitter_func=ss.norm(loc=0, scale=0.1).rvs,\n",
    "    yjitter_func=ss.norm(loc=0., scale=1).rvs,\n",
    "    degrees=0,\n",
    "    spacing=1,\n",
    "    fill_inscribe_buffer=1.5,\n",
    "    n_eval_points=100\n",
    ")"
   ]
  },
  {
   "cell_type": "code",
   "execution_count": null,
   "metadata": {},
   "outputs": [],
   "source": [
    "l2 = fills.fill"
   ]
  },
  {
   "cell_type": "code",
   "execution_count": null,
   "metadata": {
    "Collapsed": "false"
   },
   "outputs": [],
   "source": [
    "sk = vsketch.Vsketch()\n",
    "sk.size(paper.page_format_mm)\n",
    "sk.scale('1mm')\n",
    "sk.stroke(1)\n",
    "sk.geometry(l1)\n",
    "sk.geometry(l2)\n",
    "# sk.geometry(fbmb)\n",
    "# sk.vpype('splitall')\n",
    "for tolerance in tqdm([1, 2, 4]):\n",
    "    sk.vpype(f'linemerge --tolerance {tolerance}mm ')\n",
    "sk.vpype('linesort')\n",
    "sk.display()"
   ]
  },
  {
   "cell_type": "code",
   "execution_count": null,
   "metadata": {},
   "outputs": [],
   "source": [
    "savepath = '/Users/naka/code/side/plotter_images/oned_outputs/0321_bez_fill.svg'\n",
    "\n",
    "sk.save(savepath)"
   ]
  },
  {
   "cell_type": "markdown",
   "metadata": {},
   "source": [
    "# old magic"
   ]
  },
  {
   "cell_type": "code",
   "execution_count": null,
   "metadata": {
    "Collapsed": "false"
   },
   "outputs": [],
   "source": [
    "paper_size = '11x14 inches'\n",
    "border:float=30\n",
    "paper = utils.Paper(paper_size)\n",
    "\n",
    "drawbox = paper.get_drawbox(border)\n",
    "buffer_style = 2"
   ]
  },
  {
   "cell_type": "code",
   "execution_count": null,
   "metadata": {
    "Collapsed": "false"
   },
   "outputs": [],
   "source": [
    "\n",
    "poly = drawbox\n",
    "pg = gp.PerlinGrid(poly, xstep=3, ystep=3, lod=10, falloff=None, noise_scale=0.0093, noiseSeed=5)"
   ]
  },
  {
   "cell_type": "code",
   "execution_count": null,
   "metadata": {
    "Collapsed": "false"
   },
   "outputs": [],
   "source": [
    "pg.a = np.interp(pg.a, [0, np.pi*2], [np.pi*1/2, np.pi*3/2])"
   ]
  },
  {
   "cell_type": "code",
   "execution_count": null,
   "metadata": {
    "Collapsed": "false"
   },
   "outputs": [],
   "source": [
    "f,ax = plt.subplots(figsize=(6,6))\n",
    "ax.quiver(np.cos(pg.a), np.sin(pg.a), scale=50)\n",
    "ax.axis('square')"
   ]
  },
  {
   "cell_type": "code",
   "execution_count": null,
   "metadata": {
    "Collapsed": "false"
   },
   "outputs": [],
   "source": [
    "min_dim = np.min([gp.get_width(poly), gp.get_height(poly)])\n",
    "start_area = poly.centroid.buffer(min_dim/1.8)"
   ]
  },
  {
   "cell_type": "code",
   "execution_count": null,
   "metadata": {
    "Collapsed": "false"
   },
   "outputs": [],
   "source": [
    "(xcs, ycs), _ = gp.overlay_grid(start_area, xstep=7, ystep=13)\n",
    "particles = []\n",
    "for x,y in itertools.product(xcs,ycs):\n",
    "    pos = (x+np.random.randn()*0.6, y+np.random.randn()*0.6)\n",
    "    p = gp.Particle(pos=pos,\n",
    "                 grid=pg, stepsize=1)\n",
    "    if pg.p.contains(p.pos):\n",
    "        particles.append(p)"
   ]
  },
  {
   "cell_type": "code",
   "execution_count": null,
   "metadata": {
    "Collapsed": "false"
   },
   "outputs": [],
   "source": [
    "yrange = [pg.p.bounds[1], pg.p.bounds[3]]\n",
    "xrange = [pg.p.bounds[0], pg.p.bounds[2]]"
   ]
  },
  {
   "cell_type": "code",
   "execution_count": null,
   "metadata": {
    "Collapsed": "false"
   },
   "outputs": [],
   "source": [
    "for p in tqdm(particles):\n",
    "    nsteps = int(np.interp(p.x, xrange, [1,60]))\n",
    "    for i in range(nsteps):\n",
    "        p.step()\n",
    "    \n",
    "lss = MultiLineString([LineString(p.pts) for p in particles if len(p.pts) > 1])\n",
    "\n",
    "# base.merge_LineStrings([lss, pg.p.boundary])\n",
    "lss"
   ]
  },
  {
   "cell_type": "code",
   "execution_count": null,
   "metadata": {
    "Collapsed": "false"
   },
   "outputs": [],
   "source": [
    "lbs = []\n",
    "for ls in tqdm(lss):\n",
    "    b = np.interp(ls.centroid.y, yrange, [0.5, 2.2])\n",
    "    bs = 2\n",
    "    lbs.append(ls.buffer(b, cap_style=bs, join_style=bs))\n",
    "    \n",
    "lbm = so.unary_union(lbs)\n",
    "lbm"
   ]
  },
  {
   "cell_type": "code",
   "execution_count": null,
   "metadata": {
    "Collapsed": "false"
   },
   "outputs": [],
   "source": [
    "ssp_sets = []\n",
    "for p in lbm:\n",
    "    db = np.interp(p.centroid.y, yrange, [-0.6, -0.12])\n",
    "    n_scale_shifts = 25\n",
    "    d_buffers = np.array([0.] + [db] * n_scale_shifts)\n",
    "    d_translates = d_buffers * 0.8\n",
    "    angles = gp.make_callable(np.radians(-45))\n",
    "    \n",
    "    stp = gp.ScaleTransPrms(angles=angles, n_iters=1900, d_buffer=db, d_translate_factor=0.8)\n",
    "#     stp.d_buffers = d_buffers\n",
    "#     stp.d_translates = d_translates\n",
    "    P = gp.Poly(p)\n",
    "    P.fill_scale_trans(**stp.prms)\n",
    "    ssp_sets.append(gp.merge_LineStrings(P.fill))\n",
    "    \n",
    "fills = gp.merge_LineStrings(ssp_sets)"
   ]
  },
  {
   "cell_type": "code",
   "execution_count": null,
   "metadata": {
    "Collapsed": "false"
   },
   "outputs": [],
   "source": [
    "sk = vsketch.Vsketch()\n",
    "sk.size(paper.page_format_mm)\n",
    "sk.scale('1mm')\n",
    "sk.penWidth('0.25mm')\n",
    "sk.geometry(fills)\n",
    "sk.vpype('linemerge linesort')\n",
    "sk.display(color_mode='none')"
   ]
  },
  {
   "cell_type": "code",
   "execution_count": null,
   "metadata": {},
   "outputs": [],
   "source": [
    "savepath = '/Users/naka/code/side/plotter_images/oned_outputs/0322_perlin_flow_beam_erods.svg'\n",
    "\n",
    "sk.save(savepath)"
   ]
  },
  {
   "cell_type": "code",
   "execution_count": null,
   "metadata": {},
   "outputs": [],
   "source": []
  },
  {
   "cell_type": "markdown",
   "metadata": {},
   "source": [
    "# old magic"
   ]
  },
  {
   "cell_type": "code",
   "execution_count": null,
   "metadata": {
    "Collapsed": "false"
   },
   "outputs": [],
   "source": [
    "paper_size = '11x14 inches'\n",
    "border:float=30\n",
    "paper = utils.Paper(paper_size)\n",
    "\n",
    "drawbox = paper.get_drawbox(border)\n",
    "buffer_style = 2"
   ]
  },
  {
   "cell_type": "code",
   "execution_count": null,
   "metadata": {
    "Collapsed": "false"
   },
   "outputs": [],
   "source": [
    "\n",
    "poly = drawbox\n",
    "pg = gp.PerlinGrid(poly, xstep=3, ystep=3, lod=10, falloff=None, noise_scale=0.0093, noiseSeed=5)"
   ]
  },
  {
   "cell_type": "code",
   "execution_count": null,
   "metadata": {
    "Collapsed": "false"
   },
   "outputs": [],
   "source": [
    "pg.a = np.interp(pg.a, [0, np.pi*2], [np.pi*0, np.pi*1])"
   ]
  },
  {
   "cell_type": "code",
   "execution_count": null,
   "metadata": {
    "Collapsed": "false"
   },
   "outputs": [],
   "source": [
    "f,ax = plt.subplots(figsize=(6,6))\n",
    "ax.quiver(np.cos(pg.a), np.sin(pg.a), scale=50)\n",
    "ax.axis('square')"
   ]
  },
  {
   "cell_type": "code",
   "execution_count": null,
   "metadata": {
    "Collapsed": "false"
   },
   "outputs": [],
   "source": [
    "(xcs, ycs), _ = gp.overlay_grid(poly, xstep=9, ystep=9)\n",
    "particles = []\n",
    "for x,y in itertools.product(xcs,ycs):\n",
    "    pos = (x+np.random.randn()*4.6, y+np.random.randn()*4.6)\n",
    "    p = gp.Particle(pos=pos,\n",
    "                 grid=pg, stepsize=2)\n",
    "    if pg.p.contains(p.pos):\n",
    "        particles.append(p)"
   ]
  },
  {
   "cell_type": "code",
   "execution_count": null,
   "metadata": {},
   "outputs": [],
   "source": [
    "for p in tqdm(particles):\n",
    "    nsteps = 60\n",
    "    for i in range(nsteps):\n",
    "        p.step()\n",
    "    \n",
    "lss = MultiLineString([LineString(p.pts) for p in particles if len(p.pts) > 1])"
   ]
  },
  {
   "cell_type": "code",
   "execution_count": null,
   "metadata": {},
   "outputs": [],
   "source": [
    "lss = MultiLineString([l for l in lss if l.distance(poly.centroid) < 50])"
   ]
  },
  {
   "cell_type": "code",
   "execution_count": null,
   "metadata": {
    "Collapsed": "false"
   },
   "outputs": [],
   "source": [
    "yrange = [pg.p.bounds[1], pg.p.bounds[3]]\n",
    "xrange = [pg.p.bounds[0], pg.p.bounds[2]]"
   ]
  },
  {
   "cell_type": "code",
   "execution_count": null,
   "metadata": {
    "Collapsed": "false"
   },
   "outputs": [],
   "source": [
    "lbs = []\n",
    "for ls in tqdm(lss):\n",
    "    b = np.interp(ls.centroid.y, yrange, [0.5, 2.2])\n",
    "    bs = 2\n",
    "    lbs.append(ls.buffer(b, cap_style=bs, join_style=bs))"
   ]
  },
  {
   "cell_type": "code",
   "execution_count": null,
   "metadata": {
    "Collapsed": "false"
   },
   "outputs": [],
   "source": [
    "ssp_sets = []\n",
    "for p in lbs:\n",
    "    db = np.interp(p.centroid.y, yrange, [-0.6, -0.12])\n",
    "    angles = np.radians(-45)\n",
    "    \n",
    "    stp = gp.ScaleTransPrms(angles=angles, n_iters=1900, d_buffer=db, d_translate_factor=0.7)\n",
    "#     stp.d_buffers = d_buffers\n",
    "#     stp.d_translates = d_translates\n",
    "    P = gp.Poly(p)\n",
    "    P.fill_scale_trans(**stp.prms)\n",
    "    ssp_sets.append(gp.merge_LineStrings(P.fill))\n",
    "    \n",
    "fills = gp.merge_LineStrings(ssp_sets)"
   ]
  },
  {
   "cell_type": "code",
   "execution_count": null,
   "metadata": {},
   "outputs": [],
   "source": [
    "buffer_gen = ss.uniform(loc=0.5, scale=3).rvs\n",
    "d_buffer_gen = functools.partial(np.random.uniform, low=-0.8, high=-0.2)\n",
    "angles_gen = ss.uniform(loc=0, scale=360).rvs\n",
    "angles_gen = gp.make_callable(80)\n",
    "d_translate_factor_gen = ss.uniform(loc=0.2, scale=0.6).rvs"
   ]
  },
  {
   "cell_type": "code",
   "execution_count": null,
   "metadata": {},
   "outputs": [],
   "source": [
    "fills = []\n",
    "all_polys = Polygon()\n",
    "for ls in lbs:\n",
    "    p = ls.buffer(0.5, cap_style=2, join_style=2)\n",
    "    p = p.buffer(buffer_gen(), cap_style=2, join_style=2)\n",
    "    \n",
    "    stp = gp.ScaleTransPrms(d_buffer=d_buffer_gen(),angles=angles_gen(),d_translate_factor=d_translate_factor_gen(), n_iters=300)\n",
    "    stp.d_buffers += np.random.uniform(-0.15, 0.15, size=stp.d_buffers.shape)\n",
    "    P = gp.Poly(p)\n",
    "    P.fill_scale_trans(**stp.prms)\n",
    "    \n",
    "    visible_area = p.difference(all_polys)\n",
    "    visible_fill = P.fill.intersection(visible_area.buffer(1e-6))\n",
    "        \n",
    "    \n",
    "    fills.append(visible_fill)\n",
    "    all_polys = so.unary_union([all_polys, p])\n",
    "\n",
    "fills = [f for f in fills if f.length > 0]\n",
    "\n",
    "all_fills = gp.merge_LineStrings(fills)"
   ]
  },
  {
   "cell_type": "code",
   "execution_count": null,
   "metadata": {
    "Collapsed": "false"
   },
   "outputs": [],
   "source": [
    "sk = vsketch.Vsketch()\n",
    "sk.size(paper.page_format_mm)\n",
    "sk.scale('1mm')\n",
    "sk.penWidth('0.25mm')\n",
    "sk.geometry(all_fills)\n",
    "sk.vpype('linesimplify linesort')\n",
    "sk.display(color_mode='none')"
   ]
  },
  {
   "cell_type": "code",
   "execution_count": null,
   "metadata": {},
   "outputs": [],
   "source": [
    "savepath = '/Users/naka/code/side/plotter_images/oned_outputs/0323_perlin_flow_beam_erodes.svg'\n",
    "\n",
    "sk.save(savepath)"
   ]
  },
  {
   "cell_type": "markdown",
   "metadata": {},
   "source": [
    "# old magic"
   ]
  },
  {
   "cell_type": "code",
   "execution_count": null,
   "metadata": {
    "Collapsed": "false"
   },
   "outputs": [],
   "source": [
    "paper_size = '11x14 inches'\n",
    "border:float=35\n",
    "paper = utils.Paper(paper_size)\n",
    "\n",
    "drawbox = paper.get_drawbox(border)\n",
    "buffer_style = 2"
   ]
  },
  {
   "cell_type": "code",
   "execution_count": null,
   "metadata": {
    "Collapsed": "false"
   },
   "outputs": [],
   "source": [
    "\n",
    "poly = drawbox\n",
    "pg = gp.PerlinGrid(poly, xstep=3, ystep=3, lod=10, falloff=None, noise_scale=0.0093, noiseSeed=5)"
   ]
  },
  {
   "cell_type": "code",
   "execution_count": null,
   "metadata": {
    "Collapsed": "false"
   },
   "outputs": [],
   "source": [
    "pg.a = np.interp(pg.a, [0, np.pi*2], [np.pi*1/2, np.pi*5/2])"
   ]
  },
  {
   "cell_type": "code",
   "execution_count": null,
   "metadata": {
    "Collapsed": "false"
   },
   "outputs": [],
   "source": [
    "f,ax = plt.subplots(figsize=(6,6))\n",
    "ax.quiver(np.cos(pg.a), np.sin(pg.a), scale=50)\n",
    "ax.axis('square')"
   ]
  },
  {
   "cell_type": "code",
   "execution_count": null,
   "metadata": {
    "Collapsed": "false"
   },
   "outputs": [],
   "source": [
    "(xcs, ycs), _ = gp.overlay_grid(poly, xstep=7, ystep=7)\n",
    "particles = []\n",
    "for x,y in itertools.product(xcs,ycs):\n",
    "    pos = (x+np.random.randn()*4.6, y+np.random.randn()*4.6)\n",
    "    p = gp.Particle(pos=pos,\n",
    "                 grid=pg, stepsize=1)\n",
    "    if pg.p.contains(p.pos):\n",
    "        particles.append(p)"
   ]
  },
  {
   "cell_type": "code",
   "execution_count": null,
   "metadata": {},
   "outputs": [],
   "source": [
    "for p in tqdm(particles):\n",
    "    nsteps = 90\n",
    "    for i in range(nsteps):\n",
    "        p.step()\n",
    "    \n",
    "lss = MultiLineString([LineString(p.pts) for p in particles if len(p.pts) > 1])"
   ]
  },
  {
   "cell_type": "code",
   "execution_count": null,
   "metadata": {},
   "outputs": [],
   "source": [
    "mid_area = pg.p.centroid.buffer(80)\n",
    "_lss = MultiLineString([l for l in lss if l.intersects(mid_area)])\n",
    "_lss"
   ]
  },
  {
   "cell_type": "code",
   "execution_count": null,
   "metadata": {
    "Collapsed": "false"
   },
   "outputs": [],
   "source": [
    "yrange = [_lss.bounds[1], _lss.bounds[3]]\n",
    "xrange = [_lss.bounds[0], _lss.bounds[2]]"
   ]
  },
  {
   "cell_type": "code",
   "execution_count": null,
   "metadata": {
    "Collapsed": "false"
   },
   "outputs": [],
   "source": [
    "lbs = []\n",
    "for ls in tqdm(_lss):\n",
    "    b = np.interp(ls.centroid.x, xrange, [1.5, 6])\n",
    "    bs = 2\n",
    "    lbs.append(ls.buffer(b, cap_style=bs, join_style=bs))"
   ]
  },
  {
   "cell_type": "code",
   "execution_count": null,
   "metadata": {},
   "outputs": [],
   "source": [
    "buffer_gen = ss.uniform(loc=0.5, scale=3).rvs\n",
    "d_buffer_gen = functools.partial(np.random.uniform, low=-0.5, high=-0.1)\n",
    "angles_gen = ss.uniform(loc=0, scale=360).rvs\n",
    "angles_gen = gp.make_callable(45)\n",
    "d_translate_factor_gen = ss.uniform(loc=0.4, scale=0.8).rvs"
   ]
  },
  {
   "cell_type": "code",
   "execution_count": null,
   "metadata": {},
   "outputs": [],
   "source": [
    "fills = []\n",
    "all_polys = Polygon()\n",
    "for ls in lbs:\n",
    "#     p = ls.buffer(0.5, cap_style=2, join_style=2)\n",
    "#     p = p.buffer(buffer_gen(), cap_style=2, join_style=2)\n",
    "    p = ls\n",
    "    stp = gp.ScaleTransPrms(d_buffer=d_buffer_gen(),angles=angles_gen(),d_translate_factor=d_translate_factor_gen(), n_iters=300)\n",
    "    stp.d_buffers += np.random.uniform(-0.05, 0.05, size=stp.d_buffers.shape)\n",
    "    P = gp.Poly(p)\n",
    "    P.fill_scale_trans(**stp.prms)\n",
    "    \n",
    "    visible_area = p.difference(all_polys)\n",
    "    visible_fill = P.fill.intersection(visible_area.buffer(1e-6))\n",
    "        \n",
    "    \n",
    "    fills.append(visible_fill)\n",
    "    all_polys = so.unary_union([all_polys, p])\n",
    "\n",
    "fills = [f for f in fills if f.length > 0]\n",
    "\n",
    "all_fills = gp.merge_LineStrings(fills)"
   ]
  },
  {
   "cell_type": "code",
   "execution_count": null,
   "metadata": {
    "Collapsed": "false"
   },
   "outputs": [],
   "source": [
    "sk = vsketch.Vsketch()\n",
    "sk.size(paper.page_format_mm)\n",
    "sk.scale('1mm')\n",
    "sk.penWidth('0.25mm')\n",
    "sk.geometry(all_fills)\n",
    "sk.display(color_mode='none')"
   ]
  },
  {
   "cell_type": "code",
   "execution_count": null,
   "metadata": {},
   "outputs": [],
   "source": [
    "savepath = '/Users/naka/code/side/plotter_images/oned_outputs/0328_perlin_flow_beam_erodes.svg'\n",
    "\n",
    "sk.save(savepath)"
   ]
  },
  {
   "cell_type": "code",
   "execution_count": null,
   "metadata": {},
   "outputs": [],
   "source": []
  },
  {
   "cell_type": "markdown",
   "metadata": {},
   "source": [
    "# old magic with background"
   ]
  },
  {
   "cell_type": "code",
   "execution_count": null,
   "metadata": {
    "Collapsed": "false"
   },
   "outputs": [],
   "source": [
    "paper_size = '6x9 inches'\n",
    "border:float=15\n",
    "paper = utils.Paper(paper_size)\n",
    "\n",
    "drawbox = paper.get_drawbox(border)\n",
    "buffer_style = 2"
   ]
  },
  {
   "cell_type": "code",
   "execution_count": null,
   "metadata": {
    "Collapsed": "false"
   },
   "outputs": [],
   "source": [
    "\n",
    "poly = drawbox\n",
    "pg = gp.PerlinGrid(poly, xstep=3, ystep=3, lod=10, falloff=None, noise_scale=0.0093, noiseSeed=5)"
   ]
  },
  {
   "cell_type": "code",
   "execution_count": null,
   "metadata": {
    "Collapsed": "false"
   },
   "outputs": [],
   "source": [
    "pg.a = np.interp(pg.a, [0, np.pi*2], [np.pi*0/2, np.pi*4/2])"
   ]
  },
  {
   "cell_type": "code",
   "execution_count": null,
   "metadata": {},
   "outputs": [],
   "source": [
    "db = gp.Shape(poly)"
   ]
  },
  {
   "cell_type": "code",
   "execution_count": null,
   "metadata": {},
   "outputs": [],
   "source": [
    "flow_start_ygen = ss.triang(c=1, loc=db.bottom, scale=db.height).rvs\n",
    "\n",
    "start_pts = gp.get_random_points_in_polygon(db.p, n_points=1600, ygen=flow_start_ygen)\n",
    "\n",
    "particles = [gp.Particle(p, grid=pg, stepsize=1) for p in start_pts if pg.p.contains(p)]\n",
    "\n",
    "for p in tqdm(particles):\n",
    "    nsteps = 20\n",
    "    for i in range(nsteps):\n",
    "        p.step()\n",
    "    \n",
    "lss = MultiLineString([LineString(p.pts) for p in particles if len(p.pts) > 1])\n",
    "\n",
    "bg1 = lss.buffer(0.2, cap_style=2, join_style=2).boundary"
   ]
  },
  {
   "cell_type": "code",
   "execution_count": null,
   "metadata": {},
   "outputs": [],
   "source": [
    "bg1"
   ]
  },
  {
   "cell_type": "code",
   "execution_count": null,
   "metadata": {},
   "outputs": [],
   "source": [
    "flow_start_ygen = ss.triang(c=0, loc=db.bottom, scale=db.height).rvs\n",
    "\n",
    "start_pts = gp.get_random_points_in_polygon(db.p, n_points=1600, ygen=flow_start_ygen)\n",
    "\n",
    "particles = [gp.Particle(p, grid=pg, stepsize=1) for p in start_pts if pg.p.contains(p)]\n",
    "\n",
    "for p in tqdm(particles):\n",
    "    nsteps = 20\n",
    "    for i in range(nsteps):\n",
    "        p.step()\n",
    "    \n",
    "lss = MultiLineString([LineString(p.pts) for p in particles if len(p.pts) > 1])\n",
    "\n",
    "bg2 = lss.buffer(0.2, cap_style=2, join_style=2).boundary"
   ]
  },
  {
   "cell_type": "code",
   "execution_count": null,
   "metadata": {
    "Collapsed": "false"
   },
   "outputs": [],
   "source": [
    "(xcs, ycs), _ = gp.overlay_grid(poly, xstep=3, ystep=3)\n",
    "particles = []\n",
    "for x,y in itertools.product(xcs,ycs):\n",
    "    pos = (x+np.random.randn()*9.6, y+np.random.randn()*9.6)\n",
    "    p = gp.Particle(pos=pos,\n",
    "                 grid=pg, stepsize=1)\n",
    "    if pg.p.contains(p.pos):\n",
    "        particles.append(p)"
   ]
  },
  {
   "cell_type": "code",
   "execution_count": null,
   "metadata": {},
   "outputs": [],
   "source": [
    "for p in tqdm(particles):\n",
    "    nsteps = np.random.randint(1, 10)\n",
    "    for i in range(nsteps):\n",
    "        p.step()\n",
    "    \n",
    "lss = MultiLineString([LineString(p.pts) for p in particles if len(p.pts) > 1])"
   ]
  },
  {
   "cell_type": "code",
   "execution_count": null,
   "metadata": {},
   "outputs": [],
   "source": [
    "mid_area = pg.p.centroid.buffer(40)\n",
    "_lss = MultiLineString([l for l in lss if l.intersects(mid_area)])\n",
    "_lss"
   ]
  },
  {
   "cell_type": "code",
   "execution_count": null,
   "metadata": {
    "Collapsed": "false"
   },
   "outputs": [],
   "source": [
    "yrange = [_lss.bounds[1], _lss.bounds[3]]\n",
    "xrange = [_lss.bounds[0], _lss.bounds[2]]"
   ]
  },
  {
   "cell_type": "code",
   "execution_count": null,
   "metadata": {
    "Collapsed": "false"
   },
   "outputs": [],
   "source": [
    "lbs = []\n",
    "for ls in tqdm(_lss):\n",
    "    b = np.interp(ls.centroid.x, xrange, [1.5, 6])\n",
    "    bs = 2\n",
    "    lbs.append(ls.buffer(b, cap_style=bs, join_style=bs))"
   ]
  },
  {
   "cell_type": "code",
   "execution_count": null,
   "metadata": {},
   "outputs": [],
   "source": [
    "buffer_gen = ss.uniform(loc=0.5, scale=19).rvs\n",
    "d_buffer_gen = functools.partial(np.random.uniform, low=-0.5, high=-0.1)\n",
    "angles_gen = ss.uniform(loc=0, scale=360).rvs\n",
    "angles_gen = gp.make_callable(45)\n",
    "d_translate_factor_gen = ss.uniform(loc=0.4, scale=0.8).rvs"
   ]
  },
  {
   "cell_type": "code",
   "execution_count": null,
   "metadata": {},
   "outputs": [],
   "source": [
    "fills = []\n",
    "all_polys = Polygon()\n",
    "for ls in lbs:\n",
    "#     p = ls.buffer(0.5, cap_style=2, join_style=2)\n",
    "#     p = p.buffer(buffer_gen(), cap_style=2, join_style=2)\n",
    "    p = ls\n",
    "    stp = gp.ScaleTransPrms(d_buffer=d_buffer_gen(),angles=angles_gen(),d_translate_factor=d_translate_factor_gen(), n_iters=300)\n",
    "    stp.d_buffers += np.random.uniform(-0.05, 0.05, size=stp.d_buffers.shape)\n",
    "    P = gp.Poly(p)\n",
    "    P.fill_scale_trans(**stp.prms)\n",
    "    \n",
    "    visible_area = p.difference(all_polys)\n",
    "    visible_fill = P.fill.intersection(visible_area.buffer(1e-6))\n",
    "        \n",
    "    \n",
    "    fills.append(visible_fill)\n",
    "    all_polys = so.unary_union([all_polys, p])\n",
    "\n",
    "fills = [f for f in fills if f.length > 0]\n",
    "\n",
    "all_fills = gp.merge_LineStrings(fills)"
   ]
  },
  {
   "cell_type": "code",
   "execution_count": null,
   "metadata": {
    "Collapsed": "false"
   },
   "outputs": [],
   "source": [
    "sk = vsketch.Vsketch()\n",
    "sk.size(paper.page_format_mm)\n",
    "sk.scale('1mm')\n",
    "sk.penWidth('0.25mm')\n",
    "sk.stroke(1)\n",
    "sk.geometry(bg1)\n",
    "sk.stroke(2)\n",
    "sk.geometry(bg2)\n",
    "sk.stroke(3)\n",
    "sk.geometry(all_fills)\n",
    "sk.vpype('linesimplify linemerge linesort')\n",
    "sk.display(color_mode='layer')"
   ]
  },
  {
   "cell_type": "code",
   "execution_count": null,
   "metadata": {},
   "outputs": [],
   "source": [
    "savepath = '/Users/naka/code/side/plotter_images/oned_outputs/0333_perlin_flow_beam_erodes.svg'\n",
    "\n",
    "sk.save(savepath)"
   ]
  },
  {
   "cell_type": "markdown",
   "metadata": {},
   "source": [
    "# old magic with background"
   ]
  },
  {
   "cell_type": "code",
   "execution_count": null,
   "metadata": {
    "Collapsed": "false"
   },
   "outputs": [],
   "source": [
    "paper_size = '6x9 inches'\n",
    "border:float=15\n",
    "paper = utils.Paper(paper_size)\n",
    "\n",
    "drawbox = paper.get_drawbox(border)\n",
    "buffer_style = 2"
   ]
  },
  {
   "cell_type": "code",
   "execution_count": null,
   "metadata": {
    "Collapsed": "false"
   },
   "outputs": [],
   "source": [
    "\n",
    "poly = drawbox\n",
    "pg = gp.PerlinGrid(poly, xstep=3, ystep=3, lod=10, falloff=None, noise_scale=0.0093, noiseSeed=5)"
   ]
  },
  {
   "cell_type": "code",
   "execution_count": null,
   "metadata": {
    "Collapsed": "false"
   },
   "outputs": [],
   "source": [
    "pg.a = np.interp(pg.a, [0, np.pi*2], [np.pi*0/2, np.pi*4/2])"
   ]
  },
  {
   "cell_type": "code",
   "execution_count": null,
   "metadata": {},
   "outputs": [],
   "source": [
    "db = gp.Shape(poly)"
   ]
  },
  {
   "cell_type": "code",
   "execution_count": null,
   "metadata": {},
   "outputs": [],
   "source": [
    "start = 15\n",
    "n_lines = 300\n",
    "spacings = db.bottom + (np.geomspace(start, db.height, n_lines) - start)\n",
    "\n",
    "fills = gp.BezierHatchFill(\n",
    "    drawbox.buffer(10),\n",
    "    xjitter_func=ss.norm(loc=0, scale=0.).rvs,\n",
    "    yjitter_func=ss.norm(loc=0., scale=0.1).rvs,\n",
    "    degrees=0,\n",
    "    spacing=spacings,\n",
    "    fill_inscribe_buffer=1.,\n",
    "    n_eval_points=100\n",
    ")\n",
    "l1 = fills.fill.intersection(drawbox)"
   ]
  },
  {
   "cell_type": "code",
   "execution_count": null,
   "metadata": {},
   "outputs": [],
   "source": [
    "start = 15\n",
    "n_lines = 300\n",
    "spacings = db.top - (np.geomspace(start, db.height, n_lines) - start)\n",
    "fills = gp.BezierHatchFill(\n",
    "    drawbox,\n",
    "    xjitter_func=ss.norm(loc=0, scale=0.).rvs,\n",
    "    yjitter_func=ss.norm(loc=0., scale=0.1).rvs,\n",
    "    degrees=0,\n",
    "    spacing=spacings,\n",
    "    fill_inscribe_buffer=1,\n",
    "    n_eval_points=100\n",
    ")\n",
    "l2 = fills.fill.intersection(drawbox)"
   ]
  },
  {
   "cell_type": "code",
   "execution_count": null,
   "metadata": {
    "Collapsed": "false"
   },
   "outputs": [],
   "source": [
    "(xcs, ycs), _ = gp.overlay_grid(poly, xstep=4, ystep=4)\n",
    "particles = []\n",
    "for x,y in itertools.product(xcs,ycs):\n",
    "    pos = (x+np.random.randn()*9.6, y+np.random.randn()*9.6)\n",
    "    p = gp.Particle(pos=pos,\n",
    "                 grid=pg, stepsize=1)\n",
    "    if pg.p.contains(p.pos):\n",
    "        particles.append(p)"
   ]
  },
  {
   "cell_type": "code",
   "execution_count": null,
   "metadata": {},
   "outputs": [],
   "source": [
    "for p in tqdm(particles):\n",
    "    nsteps = np.random.randint(1, 40)\n",
    "    for i in range(nsteps):\n",
    "        p.step()\n",
    "    \n",
    "lss = MultiLineString([LineString(p.pts) for p in particles if len(p.pts) > 1])"
   ]
  },
  {
   "cell_type": "code",
   "execution_count": null,
   "metadata": {},
   "outputs": [],
   "source": [
    "mid_area = pg.p.centroid.buffer(40)\n",
    "_lss = MultiLineString([l for l in lss if l.intersects(mid_area)])\n",
    "_lss"
   ]
  },
  {
   "cell_type": "code",
   "execution_count": null,
   "metadata": {
    "Collapsed": "false"
   },
   "outputs": [],
   "source": [
    "yrange = [_lss.bounds[1], _lss.bounds[3]]\n",
    "xrange = [_lss.bounds[0], _lss.bounds[2]]"
   ]
  },
  {
   "cell_type": "code",
   "execution_count": null,
   "metadata": {
    "Collapsed": "false"
   },
   "outputs": [],
   "source": [
    "lbs = []\n",
    "for ls in tqdm(_lss):\n",
    "    b = np.interp(ls.centroid.x, xrange, [1.5, 6])\n",
    "    bs = 2\n",
    "    lbs.append(ls.buffer(b, cap_style=bs, join_style=bs))"
   ]
  },
  {
   "cell_type": "code",
   "execution_count": null,
   "metadata": {},
   "outputs": [],
   "source": [
    "buffer_gen = ss.uniform(loc=0.5, scale=20).rvs\n",
    "d_buffer_gen = functools.partial(np.random.uniform, low=-0.5, high=-0.1)\n",
    "angles_gen = ss.uniform(loc=0, scale=360).rvs\n",
    "angles_gen = gp.make_callable(45)\n",
    "d_translate_factor_gen = ss.uniform(loc=0.4, scale=0.8).rvs"
   ]
  },
  {
   "cell_type": "code",
   "execution_count": null,
   "metadata": {},
   "outputs": [],
   "source": [
    "fills = []\n",
    "all_polys = Polygon()\n",
    "for ls in lbs:\n",
    "#     p = ls.buffer(0.5, cap_style=2, join_style=2)\n",
    "#     p = p.buffer(buffer_gen(), cap_style=2, join_style=2)\n",
    "    p = ls\n",
    "    stp = gp.ScaleTransPrms(d_buffer=d_buffer_gen(),angles=angles_gen(),d_translate_factor=d_translate_factor_gen(), n_iters=300)\n",
    "    stp.d_buffers += np.random.uniform(-0.05, 0.05, size=stp.d_buffers.shape)\n",
    "    P = gp.Poly(p)\n",
    "    P.fill_scale_trans(**stp.prms)\n",
    "    \n",
    "    visible_area = p.difference(all_polys)\n",
    "    visible_fill = P.fill.intersection(visible_area.buffer(1e-6))\n",
    "        \n",
    "    \n",
    "    fills.append(visible_fill)\n",
    "    all_polys = so.unary_union([all_polys, p])\n",
    "\n",
    "fills = [f for f in fills if f.length > 0]\n",
    "\n",
    "all_fills = gp.merge_LineStrings(fills).intersection(drawbox)"
   ]
  },
  {
   "cell_type": "code",
   "execution_count": null,
   "metadata": {
    "Collapsed": "false"
   },
   "outputs": [],
   "source": [
    "sk = vsketch.Vsketch()\n",
    "sk.size(paper.page_format_mm)\n",
    "sk.scale('1mm')\n",
    "sk.penWidth('0.25mm')\n",
    "sk.stroke(1)\n",
    "sk.geometry(l1)\n",
    "sk.stroke(2)\n",
    "sk.geometry(l2)\n",
    "for tol in [0.1, 0.2, 0.4, 0.6, 1, 2, 4, 8]:\n",
    "    sk.vpype(f'linemerge -t {tol}')\n",
    "sk.vpype('linesort')\n",
    "sk.stroke(3)\n",
    "sk.geometry(all_fills)\n",
    "sk.vpype('linesort')\n",
    "sk.display(color_mode='layer')"
   ]
  },
  {
   "cell_type": "code",
   "execution_count": null,
   "metadata": {},
   "outputs": [],
   "source": [
    "savepath = '/Users/naka/code/side/plotter_images/oned_outputs/0332_perlin_flow_beam_erodes.svg'\n",
    "\n",
    "sk.save(savepath)"
   ]
  },
  {
   "cell_type": "markdown",
   "metadata": {},
   "source": [
    "# old magic with background"
   ]
  },
  {
   "cell_type": "code",
   "execution_count": null,
   "metadata": {
    "Collapsed": "false"
   },
   "outputs": [],
   "source": [
    "paper_size = '6x9 inches'\n",
    "border:float=15\n",
    "paper = utils.Paper(paper_size)\n",
    "\n",
    "drawbox = paper.get_drawbox(border)\n",
    "buffer_style = 2"
   ]
  },
  {
   "cell_type": "code",
   "execution_count": null,
   "metadata": {
    "Collapsed": "false"
   },
   "outputs": [],
   "source": [
    "\n",
    "poly = drawbox\n",
    "pg = gp.PerlinGrid(poly, xstep=3, ystep=3, lod=10, falloff=None, noise_scale=0.0093, noiseSeed=5)"
   ]
  },
  {
   "cell_type": "code",
   "execution_count": null,
   "metadata": {
    "Collapsed": "false"
   },
   "outputs": [],
   "source": [
    "pg.a = np.interp(pg.a, [0, np.pi*2], [np.pi*0.2/2, np.pi*2/2])"
   ]
  },
  {
   "cell_type": "code",
   "execution_count": null,
   "metadata": {},
   "outputs": [],
   "source": [
    "db = gp.Shape(poly)"
   ]
  },
  {
   "cell_type": "code",
   "execution_count": null,
   "metadata": {
    "Collapsed": "false"
   },
   "outputs": [],
   "source": [
    "(xcs, ycs), _ = gp.overlay_grid(poly, xstep=2, ystep=2)\n",
    "particles = []\n",
    "for x,y in itertools.product(xcs,ycs):\n",
    "    pos = (x+np.random.randn()*0.1, y+np.random.randn()*0.1)\n",
    "    p = gp.Particle(pos=pos,\n",
    "                 grid=pg, stepsize=1)\n",
    "    if pg.p.contains(p.pos):\n",
    "        particles.append(p)"
   ]
  },
  {
   "cell_type": "code",
   "execution_count": null,
   "metadata": {},
   "outputs": [],
   "source": [
    "for p in tqdm(particles):\n",
    "    nsteps = 20\n",
    "    for i in range(nsteps):\n",
    "        p.step()\n",
    "    \n",
    "lss = MultiLineString([LineString(p.pts) for p in particles if len(p.pts) > 1])\n",
    "\n",
    "bg1 = lss.buffer(0.05, cap_style=2, join_style=2).boundary.intersection(drawbox)"
   ]
  },
  {
   "cell_type": "code",
   "execution_count": null,
   "metadata": {},
   "outputs": [],
   "source": [
    "bg1"
   ]
  },
  {
   "cell_type": "code",
   "execution_count": null,
   "metadata": {
    "Collapsed": "false"
   },
   "outputs": [],
   "source": [
    "(xcs, ycs), _ = gp.overlay_grid(poly, xstep=4, ystep=4)\n",
    "particles = []\n",
    "for x,y in itertools.product(xcs,ycs):\n",
    "    pos = (x+np.random.randn()*9.6, y+np.random.randn()*9.6)\n",
    "    p = gp.Particle(pos=pos,\n",
    "                 grid=pg, stepsize=1)\n",
    "    if pg.p.contains(p.pos):\n",
    "        particles.append(p)"
   ]
  },
  {
   "cell_type": "code",
   "execution_count": null,
   "metadata": {},
   "outputs": [],
   "source": [
    "for p in tqdm(particles):\n",
    "    nsteps = np.random.randint(1, 15)\n",
    "    for i in range(nsteps):\n",
    "        p.step()\n",
    "    \n",
    "lss = MultiLineString([LineString(p.pts) for p in particles if len(p.pts) > 1])"
   ]
  },
  {
   "cell_type": "code",
   "execution_count": null,
   "metadata": {},
   "outputs": [],
   "source": [
    "mid_area = pg.p.centroid.buffer(40)\n",
    "_lss = MultiLineString([l for l in lss if l.intersects(mid_area)])\n",
    "_lss"
   ]
  },
  {
   "cell_type": "code",
   "execution_count": null,
   "metadata": {
    "Collapsed": "false"
   },
   "outputs": [],
   "source": [
    "yrange = [_lss.bounds[1], _lss.bounds[3]]\n",
    "xrange = [_lss.bounds[0], _lss.bounds[2]]"
   ]
  },
  {
   "cell_type": "code",
   "execution_count": null,
   "metadata": {
    "Collapsed": "false"
   },
   "outputs": [],
   "source": [
    "lbs = []\n",
    "for ls in tqdm(_lss):\n",
    "    b = np.interp(ls.centroid.x, xrange, [1.5, 5])\n",
    "    bs = 1\n",
    "    lbs.append(ls.buffer(b, cap_style=bs, join_style=bs))"
   ]
  },
  {
   "cell_type": "code",
   "execution_count": null,
   "metadata": {},
   "outputs": [],
   "source": [
    "buffer_gen = ss.uniform(loc=0.5, scale=29).rvs\n",
    "d_buffer_gen = functools.partial(np.random.uniform, low=-0.6, high=-0.15)\n",
    "angles_gen = ss.uniform(loc=0, scale=360).rvs\n",
    "# angles_gen = gp.make_callable(45)\n",
    "d_translate_factor_gen = ss.uniform(loc=0.4, scale=0.8).rvs"
   ]
  },
  {
   "cell_type": "code",
   "execution_count": null,
   "metadata": {},
   "outputs": [],
   "source": [
    "fills = []\n",
    "all_polys = Polygon()\n",
    "for ls in lbs:\n",
    "#     p = ls.buffer(0.5, cap_style=2, join_style=2)\n",
    "#     p = p.buffer(buffer_gen(), cap_style=2, join_style=2)\n",
    "    p = ls\n",
    "    stp = gp.ScaleTransPrms(d_buffer=d_buffer_gen(),angles=angles_gen(),d_translate_factor=d_translate_factor_gen(), n_iters=300)\n",
    "    stp.d_buffers += np.random.uniform(-0.05, 0.05, size=stp.d_buffers.shape)\n",
    "    P = gp.Poly(p)\n",
    "    P.fill_scale_trans(**stp.prms)\n",
    "    \n",
    "    visible_area = p.difference(all_polys)\n",
    "    visible_fill = P.fill.intersection(visible_area.buffer(1e-6))\n",
    "        \n",
    "    \n",
    "    fills.append(visible_fill)\n",
    "    all_polys = so.unary_union([all_polys, p])\n",
    "\n",
    "fills = [f for f in fills if f.length > 0]\n",
    "\n",
    "all_fills = gp.merge_LineStrings(fills).intersect(drawbox)"
   ]
  },
  {
   "cell_type": "code",
   "execution_count": null,
   "metadata": {
    "Collapsed": "false"
   },
   "outputs": [],
   "source": [
    "sk = vsketch.Vsketch()\n",
    "sk.size(paper.page_format_mm)\n",
    "sk.scale('1mm')\n",
    "sk.penWidth('0.25mm')\n",
    "sk.stroke(1)\n",
    "sk.geometry(bg1)\n",
    "# sk.stroke(2)\n",
    "# sk.geometry(bg2)\n",
    "sk.stroke(3)\n",
    "sk.geometry(all_fills)\n",
    "sk.vpype('linesimplify linemerge linesort')\n",
    "sk.display(color_mode='layer')"
   ]
  },
  {
   "cell_type": "code",
   "execution_count": null,
   "metadata": {},
   "outputs": [],
   "source": [
    "savepath = '/Users/naka/code/side/plotter_images/oned_outputs/0336_perlin_flow_beam_erodes.svg'\n",
    "\n",
    "sk.save(savepath)"
   ]
  },
  {
   "cell_type": "code",
   "execution_count": null,
   "metadata": {},
   "outputs": [],
   "source": []
  }
 ],
 "metadata": {
  "kernelspec": {
   "display_name": "Python [conda env:genpen]",
   "language": "python",
   "name": "conda-env-genpen-py"
  },
  "language_info": {
   "codemirror_mode": {
    "name": "ipython",
    "version": 3
   },
   "file_extension": ".py",
   "mimetype": "text/x-python",
   "name": "python",
   "nbconvert_exporter": "python",
   "pygments_lexer": "ipython3",
   "version": "3.8.8"
  }
 },
 "nbformat": 4,
 "nbformat_minor": 4
}
