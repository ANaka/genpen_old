{
 "cells": [
  {
   "cell_type": "code",
   "execution_count": null,
   "metadata": {
    "Collapsed": "false"
   },
   "outputs": [],
   "source": [
    "import itertools\n",
    "import numpy as np\n",
    "import os\n",
    "import seaborn as sns\n",
    "from tqdm import tqdm\n",
    "from dataclasses import asdict, dataclass, field\n",
    "import vsketch\n",
    "import shapely.geometry as sg\n",
    "from shapely.geometry import box, MultiLineString, Point, MultiPoint, Polygon, MultiPolygon, LineString\n",
    "import shapely.affinity as sa\n",
    "import shapely.ops as so\n",
    "import matplotlib.pyplot as plt\n",
    "import pandas as pd\n",
    "\n",
    "import vpype_cli\n",
    "from typing import List, Generic\n",
    "from genpen import genpen as gp, utils as utils\n",
    "from scipy import stats as ss\n",
    "import geopandas\n",
    "from shapely.errors import TopologicalError\n",
    "import functools\n",
    "%load_ext autoreload\n",
    "%autoreload 2"
   ]
  },
  {
   "cell_type": "code",
   "execution_count": null,
   "metadata": {
    "Collapsed": "false"
   },
   "outputs": [],
   "source": [
    "paper_size = '19x24 inches'\n",
    "border:float=30\n",
    "paper = utils.Paper(paper_size)\n",
    "\n",
    "drawbox = paper.get_drawbox(border)\n",
    "buffer_style = 2"
   ]
  },
  {
   "cell_type": "code",
   "execution_count": null,
   "metadata": {
    "Collapsed": "false"
   },
   "outputs": [],
   "source": [
    "\n",
    "poly = drawbox.buffer(-20)\n",
    "pg = gp.PerlinGrid(poly, xstep=6, ystep=6, lod=4, falloff=None, noise_scale=0.0063, noiseSeed=5)"
   ]
  },
  {
   "cell_type": "code",
   "execution_count": null,
   "metadata": {
    "Collapsed": "false"
   },
   "outputs": [],
   "source": [
    "f,ax = plt.subplots(figsize=(6,6))\n",
    "ax.quiver(np.cos(pg.a), np.sin(pg.a), scale=50)"
   ]
  },
  {
   "cell_type": "code",
   "execution_count": null,
   "metadata": {
    "Collapsed": "false"
   },
   "outputs": [],
   "source": [
    "(xcs, ycs), _ = gp.overlay_grid(pg.p, xstep=60, ystep=60)\n",
    "particles = []\n",
    "for x,y in itertools.product(xcs,ycs):\n",
    "    pos = (x+np.random.randn()*1.6, y+np.random.randn()*1.6)\n",
    "    p = gp.Particle(pos=pos,\n",
    "                 grid=pg, stepsize=1)\n",
    "    if pg.p.contains(p.pos):\n",
    "        particles.append(p)"
   ]
  },
  {
   "cell_type": "code",
   "execution_count": null,
   "metadata": {
    "Collapsed": "false"
   },
   "outputs": [],
   "source": [
    "for p in tqdm(particles):\n",
    "    for i in range(np.random.randint(1,290)):\n",
    "        p.step()\n",
    "    \n",
    "lss = [LineString(p.pts) for p in particles if len(p.pts) > 1]"
   ]
  },
  {
   "cell_type": "code",
   "execution_count": null,
   "metadata": {},
   "outputs": [],
   "source": [
    "angle_gen = ss.uniform(loc=0, scale=100).rvs"
   ]
  },
  {
   "cell_type": "code",
   "execution_count": null,
   "metadata": {},
   "outputs": [],
   "source": [
    "lbs = [l.buffer(ss.uniform(loc=2, scale=12).rvs(), cap_style=1, join_style=1) for l in lss]"
   ]
  },
  {
   "cell_type": "code",
   "execution_count": null,
   "metadata": {},
   "outputs": [],
   "source": [
    "lbs = [sa.rotate(l, angle=angle_gen()) for l in lbs]"
   ]
  },
  {
   "cell_type": "code",
   "execution_count": null,
   "metadata": {},
   "outputs": [],
   "source": [
    "polymerge = gp.merge_Polygons(lbs).buffer(0.1, cap_style=2, join_style=2)"
   ]
  },
  {
   "cell_type": "code",
   "execution_count": null,
   "metadata": {
    "Collapsed": "false"
   },
   "outputs": [],
   "source": [
    "stp = gp.ScaleTransPrms(d_buffer=-0.8,angles=45,d_translate_factor=0.7)\n",
    "stp.d_buffers += np.random.uniform(-0.04, 0.04, size=stp.d_buffers.shape)"
   ]
  },
  {
   "cell_type": "code",
   "execution_count": null,
   "metadata": {
    "Collapsed": "false"
   },
   "outputs": [],
   "source": [
    "fills = []\n",
    "for p in polymerge:\n",
    "    P = gp.Poly(p)\n",
    "    P.fill_scale_trans(**stp.prms)\n",
    "    fills.append(P.fill)"
   ]
  },
  {
   "cell_type": "code",
   "execution_count": null,
   "metadata": {
    "Collapsed": "false"
   },
   "outputs": [],
   "source": [
    "layer1 = gp.merge_LineStrings(fills)"
   ]
  },
  {
   "cell_type": "code",
   "execution_count": null,
   "metadata": {},
   "outputs": [],
   "source": [
    "layer1"
   ]
  },
  {
   "cell_type": "code",
   "execution_count": null,
   "metadata": {},
   "outputs": [],
   "source": [
    "%%time\n",
    "bd = 0.001\n",
    "l1b = layer1.buffer(bd, cap_style=1, join_style=1, resolution=16).buffer(-bd, cap_style=1, join_style=1).boundary"
   ]
  },
  {
   "cell_type": "code",
   "execution_count": null,
   "metadata": {},
   "outputs": [],
   "source": [
    "l1b = [l for l in l1b if l.length > 0.1]"
   ]
  },
  {
   "cell_type": "code",
   "execution_count": null,
   "metadata": {},
   "outputs": [],
   "source": [
    "l1b = gp.merge_LineStrings(l1b)"
   ]
  },
  {
   "cell_type": "code",
   "execution_count": null,
   "metadata": {},
   "outputs": [],
   "source": [
    "all_polys = polymerge"
   ]
  },
  {
   "cell_type": "code",
   "execution_count": null,
   "metadata": {
    "Collapsed": "false"
   },
   "outputs": [],
   "source": [
    "(xcs, ycs), _ = gp.overlay_grid(pg.p, xstep=20, ystep=30)\n",
    "particles = []\n",
    "for x,y in itertools.product(xcs,ycs):\n",
    "    pos = (x+np.random.randn()*1.6, y+np.random.randn()*1.6)\n",
    "    p = gp.Particle(pos=pos,\n",
    "                 grid=pg, stepsize=1)\n",
    "    if pg.p.contains(p.pos):\n",
    "        particles.append(p)"
   ]
  },
  {
   "cell_type": "code",
   "execution_count": null,
   "metadata": {
    "Collapsed": "false"
   },
   "outputs": [],
   "source": [
    "for p in tqdm(particles):\n",
    "    for i in range(np.random.randint(1,190)):\n",
    "        p.step()\n",
    "    \n",
    "lss = [LineString(p.pts) for p in particles if len(p.pts) > 1]"
   ]
  },
  {
   "cell_type": "code",
   "execution_count": null,
   "metadata": {},
   "outputs": [],
   "source": [
    "angle_gen = ss.uniform(loc=0, scale=130).rvs"
   ]
  },
  {
   "cell_type": "code",
   "execution_count": null,
   "metadata": {},
   "outputs": [],
   "source": [
    "lbs = [l.buffer(ss.uniform(loc=2, scale=19).rvs(), cap_style=1, join_style=1) for l in lss]"
   ]
  },
  {
   "cell_type": "code",
   "execution_count": null,
   "metadata": {},
   "outputs": [],
   "source": [
    "lbs = [sa.rotate(l, angle=angle_gen()) for l in lbs]"
   ]
  },
  {
   "cell_type": "code",
   "execution_count": null,
   "metadata": {},
   "outputs": [],
   "source": [
    "polymerge = gp.merge_Polygons(lbs).buffer(0.1, cap_style=2, join_style=2)"
   ]
  },
  {
   "cell_type": "code",
   "execution_count": null,
   "metadata": {},
   "outputs": [],
   "source": [
    "polymerge = gp.robust_difference(polymerge, all_polys)"
   ]
  },
  {
   "cell_type": "code",
   "execution_count": null,
   "metadata": {
    "Collapsed": "false"
   },
   "outputs": [],
   "source": [
    "stp = gp.ScaleTransPrms(d_buffer=-0.8,angles=-45,d_translate_factor=0.7)\n",
    "stp.d_buffers += np.random.uniform(-0.09, 0.09, size=stp.d_buffers.shape)"
   ]
  },
  {
   "cell_type": "code",
   "execution_count": null,
   "metadata": {
    "Collapsed": "false"
   },
   "outputs": [],
   "source": [
    "fills = []\n",
    "for p in polymerge:\n",
    "    P = gp.Poly(p)\n",
    "    P.fill_scale_trans(**stp.prms)\n",
    "    fills.append(P.fill)"
   ]
  },
  {
   "cell_type": "code",
   "execution_count": null,
   "metadata": {
    "Collapsed": "false"
   },
   "outputs": [],
   "source": [
    "layer2 = gp.merge_LineStrings(fills)"
   ]
  },
  {
   "cell_type": "code",
   "execution_count": null,
   "metadata": {},
   "outputs": [],
   "source": [
    "layer2"
   ]
  },
  {
   "cell_type": "code",
   "execution_count": null,
   "metadata": {},
   "outputs": [],
   "source": [
    "bd = 0.00001\n",
    "l2b = layer2.buffer(bd, cap_style=1, join_style=1, resolution=8).buffer(-bd, cap_style=1, join_style=1).boundary"
   ]
  },
  {
   "cell_type": "code",
   "execution_count": null,
   "metadata": {},
   "outputs": [],
   "source": [
    "l2b"
   ]
  },
  {
   "cell_type": "code",
   "execution_count": null,
   "metadata": {},
   "outputs": [],
   "source": [
    "sk = vsketch.Vsketch()\n",
    "sk.size(paper.page_format_mm)\n",
    "sk.scale('1mm')\n",
    "sk.penWidth('0.8mm')\n",
    "sk.stroke(1)\n",
    "sk.geometry(l1b)\n",
    "# sk.stroke(2)\n",
    "# sk.geometry(l2b)\n",
    "sk.display(color_mode='none', mode='ipython')"
   ]
  },
  {
   "cell_type": "code",
   "execution_count": null,
   "metadata": {},
   "outputs": [],
   "source": [
    "savepath = '/Users/naka/code/side/plotter_images/oned_outputs/0310_morse_flow_beams.svg'\n",
    "\n",
    "sk.save(savepath)"
   ]
  },
  {
   "cell_type": "code",
   "execution_count": null,
   "metadata": {},
   "outputs": [],
   "source": [
    "from tqdm import tqdm"
   ]
  },
  {
   "cell_type": "code",
   "execution_count": null,
   "metadata": {},
   "outputs": [],
   "source": [
    "for tolerance in [0.2, 0.4, 0.8, 1, 2, 4, 8, 16, 32,]:\n",
    "    sk.vpype(f' splitall linemerge --tolerance {tolerance}mm')\n",
    "    "
   ]
  },
  {
   "cell_type": "code",
   "execution_count": null,
   "metadata": {},
   "outputs": [],
   "source": [
    "sk.vpype('linesort')\n",
    "sk.display(color_mode='none', mode='ipython')"
   ]
  },
  {
   "cell_type": "code",
   "execution_count": null,
   "metadata": {},
   "outputs": [],
   "source": [
    "savepath = '/Users/naka/code/side/plotter_images/oned_outputs/0310_morse_flow_beams_merged_sorted3.svg'\n",
    "\n",
    "sk.save(savepath)"
   ]
  },
  {
   "cell_type": "code",
   "execution_count": null,
   "metadata": {
    "Collapsed": "false"
   },
   "outputs": [],
   "source": [
    "sk vpype vsketch.Vsketch()\n",
    "sk.size(paper.page_format_mm)\n",
    "sk.scale('1mm')\n",
    "sk.penWidth('0.3mm')\n",
    "sk.stroke(1)\n",
    "sk.geometry(layer1)\n",
    "sk.stroke(2)\n",
    "sk.geometry(layer2)\n",
    "sk.penWidth('0.3')\n",
    "# sk.vpype('splitall')\n",
    "# for tolerance in [0.2,]:\n",
    "#     sk.vpype(f'linemerge --tolerance {tolerance}mm linesimplify --tolerance 0.1')\n",
    "# sk.vpype('linesimplify --tolerance 0.1 linesort')\n",
    "\n",
    "sk.display(color_mode='none', mode='ipython')"
   ]
  },
  {
   "cell_type": "code",
   "execution_count": null,
   "metadata": {},
   "outputs": [],
   "source": []
  },
  {
   "cell_type": "code",
   "execution_count": null,
   "metadata": {},
   "outputs": [],
   "source": [
    "lss = l1b"
   ]
  },
  {
   "cell_type": "code",
   "execution_count": null,
   "metadata": {},
   "outputs": [],
   "source": [
    "lbs = [l.buffer(ss.uniform(loc=0.5, scale=6).rvs(), cap_style=2, join_style=2) for l in lss]"
   ]
  },
  {
   "cell_type": "code",
   "execution_count": null,
   "metadata": {},
   "outputs": [],
   "source": [
    "polymerge = gp.merge_Polygons(lbs).buffer(0.1, cap_style=2, join_style=2)"
   ]
  },
  {
   "cell_type": "code",
   "execution_count": null,
   "metadata": {
    "Collapsed": "false"
   },
   "outputs": [],
   "source": [
    "stp = gp.ScaleTransPrms(d_buffer=-0.9,angles=45,d_translate_factor=0.7)\n",
    "stp.d_buffers += np.random.uniform(-0.04, 0.04, size=stp.d_buffers.shape)"
   ]
  },
  {
   "cell_type": "code",
   "execution_count": null,
   "metadata": {
    "Collapsed": "false"
   },
   "outputs": [],
   "source": [
    "fills = []\n",
    "for p in polymerge:\n",
    "    P = gp.Poly(p)\n",
    "    P.fill_scale_trans(**stp.prms)\n",
    "    fills.append(P.fill)"
   ]
  },
  {
   "cell_type": "code",
   "execution_count": null,
   "metadata": {},
   "outputs": [],
   "source": [
    "layer2 = gp.merge_LineStrings(fills)"
   ]
  },
  {
   "cell_type": "code",
   "execution_count": null,
   "metadata": {
    "Collapsed": "false"
   },
   "outputs": [],
   "source": [
    "sk vpype vsketch.Vsketch()\n",
    "sk.size(paper.page_format_mm)\n",
    "sk.scale('1mm')\n",
    "sk.penWidth('0.3mm')\n",
    "sk.stroke(1)\n",
    "sk.geometry(layer1)\n",
    "sk.stroke(2)\n",
    "sk.geometry(layer2)\n",
    "sk.penWidth('0.3')\n",
    "# sk.vpype('splitall')\n",
    "# for tolerance in [0.2,]:\n",
    "#     sk.vpype(f'linemerge --tolerance {tolerance}mm linesimplify --tolerance 0.1')\n",
    "# sk.vpype('linesimplify --tolerance 0.1 linesort')\n",
    "\n",
    "sk.display(color_mode='none', mode='ipython')"
   ]
  },
  {
   "cell_type": "code",
   "execution_count": null,
   "metadata": {
    "Collapsed": "false"
   },
   "outputs": [],
   "source": [
    "sk vpype vsketch.Vsketch()\n",
    "sk.size(paper.page_format_mm)\n",
    "sk.scale('1mm')\n",
    "sk.penWidth('0.3mm')\n",
    "sk.stroke(1)\n",
    "sk.geometry(layer1)\n",
    "sk.stroke(2)\n",
    "sk.geometry(layer2)\n",
    "sk.penWidth('0.3')\n",
    "# sk.vpype('splitall')\n",
    "# for tolerance in [0.2,]:\n",
    "#     sk.vpype(f'linemerge --tolerance {tolerance}mm linesimplify --tolerance 0.1')\n",
    "# sk.vpype('linesimplify --tolerance 0.1 linesort')\n",
    "\n",
    "sk.display(color_mode='none', mode='ipython')"
   ]
  },
  {
   "cell_type": "markdown",
   "metadata": {},
   "source": [
    "## Try2"
   ]
  },
  {
   "cell_type": "code",
   "execution_count": null,
   "metadata": {
    "Collapsed": "false"
   },
   "outputs": [],
   "source": [
    "paper_size = '19x24 inches'\n",
    "border:float=30\n",
    "paper = utils.Paper(paper_size)\n",
    "\n",
    "drawbox = paper.get_drawbox(border)\n",
    "buffer_style = 2"
   ]
  },
  {
   "cell_type": "code",
   "execution_count": null,
   "metadata": {
    "Collapsed": "false"
   },
   "outputs": [],
   "source": [
    "\n",
    "poly = drawbox.buffer(-20)\n",
    "pg = gp.PerlinGrid(poly, xstep=6, ystep=6, lod=4, falloff=None, noise_scale=0.0063, noiseSeed=7)"
   ]
  },
  {
   "cell_type": "code",
   "execution_count": null,
   "metadata": {
    "Collapsed": "false"
   },
   "outputs": [],
   "source": [
    "(xcs, ycs), _ = gp.overlay_grid(pg.p, xstep=40, ystep=40)\n",
    "particles = []\n",
    "for x,y in itertools.product(xcs,ycs):\n",
    "    pos = (x+np.random.randn()*8.6, y+np.random.randn()*8.6)\n",
    "    p = gp.Particle(pos=pos,\n",
    "                 grid=pg, stepsize=1)\n",
    "    if pg.p.contains(p.pos):\n",
    "        particles.append(p)"
   ]
  },
  {
   "cell_type": "code",
   "execution_count": null,
   "metadata": {
    "Collapsed": "false"
   },
   "outputs": [],
   "source": [
    "for p in tqdm(particles):\n",
    "    for i in range(np.random.randint(1,90)):\n",
    "        p.step()\n",
    "    \n",
    "lss = [LineString(p.pts) for p in particles if len(p.pts) > 1]"
   ]
  },
  {
   "cell_type": "code",
   "execution_count": null,
   "metadata": {},
   "outputs": [],
   "source": [
    "angle_gen = ss.uniform(loc=0, scale=70).rvs"
   ]
  },
  {
   "cell_type": "code",
   "execution_count": null,
   "metadata": {},
   "outputs": [],
   "source": [
    "lbs = [l.buffer(ss.uniform(loc=2, scale=9).rvs(), cap_style=1, join_style=1) for l in lss]"
   ]
  },
  {
   "cell_type": "code",
   "execution_count": null,
   "metadata": {},
   "outputs": [],
   "source": [
    "lbs = [sa.rotate(l, angle=angle_gen()) for l in lbs]"
   ]
  },
  {
   "cell_type": "code",
   "execution_count": null,
   "metadata": {},
   "outputs": [],
   "source": [
    "polymerge = gp.merge_Polygons(lbs).buffer(0.1, cap_style=2, join_style=2)"
   ]
  },
  {
   "cell_type": "code",
   "execution_count": null,
   "metadata": {
    "Collapsed": "false"
   },
   "outputs": [],
   "source": [
    "stp = gp.ScaleTransPrms(d_buffer=-0.9,angles=45,d_translate_factor=0.7)\n",
    "stp.d_buffers += np.random.uniform(-0.04, 0.04, size=stp.d_buffers.shape)"
   ]
  },
  {
   "cell_type": "code",
   "execution_count": null,
   "metadata": {
    "Collapsed": "false"
   },
   "outputs": [],
   "source": [
    "fills = []\n",
    "for p in polymerge:\n",
    "    P = gp.Poly(p)\n",
    "    P.fill_scale_trans(**stp.prms)\n",
    "    fills.append(P.fill)"
   ]
  },
  {
   "cell_type": "code",
   "execution_count": null,
   "metadata": {},
   "outputs": [],
   "source": [
    "bd = 0.0001\n",
    "l1b = layer1.buffer(bd, cap_style=1, join_style=1, resolution=8).buffer(-bd, cap_style=1, join_style=1).boundary"
   ]
  },
  {
   "cell_type": "code",
   "execution_count": null,
   "metadata": {},
   "outputs": [],
   "source": []
  },
  {
   "cell_type": "code",
   "execution_count": null,
   "metadata": {},
   "outputs": [],
   "source": [
    "all_polys = polymerge"
   ]
  },
  {
   "cell_type": "code",
   "execution_count": null,
   "metadata": {
    "Collapsed": "false"
   },
   "outputs": [],
   "source": [
    "(xcs, ycs), _ = gp.overlay_grid(pg.p, xstep=20, ystep=30)\n",
    "particles = []\n",
    "for x,y in itertools.product(xcs,ycs):\n",
    "    pos = (x+np.random.randn()*1.6, y+np.random.randn()*1.6)\n",
    "    p = gp.Particle(pos=pos,\n",
    "                 grid=pg, stepsize=1)\n",
    "    if pg.p.contains(p.pos):\n",
    "        particles.append(p)"
   ]
  },
  {
   "cell_type": "code",
   "execution_count": null,
   "metadata": {
    "Collapsed": "false"
   },
   "outputs": [],
   "source": [
    "for p in tqdm(particles):\n",
    "    for i in range(np.random.randint(1,190)):\n",
    "        p.step()\n",
    "    \n",
    "lss = [LineString(p.pts) for p in particles if len(p.pts) > 1]"
   ]
  },
  {
   "cell_type": "code",
   "execution_count": null,
   "metadata": {},
   "outputs": [],
   "source": [
    "angle_gen = ss.uniform(loc=0, scale=130).rvs"
   ]
  },
  {
   "cell_type": "code",
   "execution_count": null,
   "metadata": {},
   "outputs": [],
   "source": [
    "lbs = [l.buffer(ss.uniform(loc=2, scale=19).rvs(), cap_style=1, join_style=1) for l in lss]"
   ]
  },
  {
   "cell_type": "code",
   "execution_count": null,
   "metadata": {},
   "outputs": [],
   "source": [
    "lbs = [sa.rotate(l, angle=angle_gen()) for l in lbs]"
   ]
  },
  {
   "cell_type": "code",
   "execution_count": null,
   "metadata": {},
   "outputs": [],
   "source": [
    "polymerge = gp.merge_Polygons(lbs).buffer(0.1, cap_style=2, join_style=2)"
   ]
  },
  {
   "cell_type": "code",
   "execution_count": null,
   "metadata": {},
   "outputs": [],
   "source": [
    "polymerge = gp.robust_difference(polymerge, all_polys)"
   ]
  },
  {
   "cell_type": "code",
   "execution_count": null,
   "metadata": {
    "Collapsed": "false"
   },
   "outputs": [],
   "source": [
    "stp = gp.ScaleTransPrms(d_buffer=-0.8,angles=-45,d_translate_factor=0.7)\n",
    "stp.d_buffers += np.random.uniform(-0.09, 0.09, size=stp.d_buffers.shape)"
   ]
  },
  {
   "cell_type": "code",
   "execution_count": null,
   "metadata": {
    "Collapsed": "false"
   },
   "outputs": [],
   "source": [
    "fills = []\n",
    "for p in polymerge:\n",
    "    P = gp.Poly(p)\n",
    "    P.fill_scale_trans(**stp.prms)\n",
    "    fills.append(P.fill)"
   ]
  },
  {
   "cell_type": "code",
   "execution_count": null,
   "metadata": {
    "Collapsed": "false"
   },
   "outputs": [],
   "source": [
    "layer2 = gp.merge_LineStrings(fills)"
   ]
  },
  {
   "cell_type": "code",
   "execution_count": null,
   "metadata": {},
   "outputs": [],
   "source": [
    "layer2"
   ]
  },
  {
   "cell_type": "code",
   "execution_count": null,
   "metadata": {},
   "outputs": [],
   "source": [
    "bd = 0.00001\n",
    "l2b = layer2.buffer(bd, cap_style=1, join_style=1, resolution=8).buffer(-bd, cap_style=1, join_style=1).boundary"
   ]
  },
  {
   "cell_type": "code",
   "execution_count": null,
   "metadata": {},
   "outputs": [],
   "source": [
    "l2b"
   ]
  },
  {
   "cell_type": "code",
   "execution_count": null,
   "metadata": {},
   "outputs": [],
   "source": [
    "_l1b = gp.merge_LineStrings([l for l in l1b if l.length > 0.2])"
   ]
  },
  {
   "cell_type": "code",
   "execution_count": null,
   "metadata": {},
   "outputs": [],
   "source": [
    "sns.displot([np.log10(l.length) for l in _l1b])"
   ]
  },
  {
   "cell_type": "code",
   "execution_count": null,
   "metadata": {},
   "outputs": [],
   "source": [
    "from tqdm.autonotebook import tqdm"
   ]
  },
  {
   "cell_type": "code",
   "execution_count": null,
   "metadata": {},
   "outputs": [],
   "source": []
  },
  {
   "cell_type": "code",
   "execution_count": null,
   "metadata": {},
   "outputs": [],
   "source": [
    "sk = vsketch.Vsketch()\n",
    "sk.size(paper.page_format_mm)\n",
    "sk.scale('1mm')\n",
    "sk.penWidth('0.3mm')\n",
    "sk.stroke(1)\n",
    "sk.geometry(_l1b)\n",
    "\n",
    "for tolerance in [0.2, 0.4, 0.8, 1, 2, 4, 8, 16, 32, 64]:\n",
    "    sk.vpype(f'linemerge --tolerance {tolerance}mm')\n",
    "    \n",
    "sk.stroke(2)\n",
    "sk.geometry(_l1b)\n",
    "sk.vpype('linesort')\n",
    "sk.display(color_mode='layer', mode='ipython')"
   ]
  },
  {
   "cell_type": "code",
   "execution_count": null,
   "metadata": {},
   "outputs": [],
   "source": [
    "savepath = '/Users/naka/code/side/plotter_images/oned_outputs/0307_morse_flow_beams.svg'\n",
    "\n",
    "sk.save(savepath)"
   ]
  },
  {
   "cell_type": "code",
   "execution_count": null,
   "metadata": {},
   "outputs": [],
   "source": [
    "lbs = [l.buffer(ss.uniform(loc=1, scale=8).rvs(), cap_style=1, join_style=1) for l in _l1b]"
   ]
  },
  {
   "cell_type": "code",
   "execution_count": null,
   "metadata": {},
   "outputs": [],
   "source": [
    "polymerge = gp.merge_Polygons(lbs).buffer(0.1, cap_style=2, join_style=2)"
   ]
  },
  {
   "cell_type": "code",
   "execution_count": null,
   "metadata": {},
   "outputs": [],
   "source": [
    "polymerge = gp.robust_difference(polymerge, all_polys)"
   ]
  },
  {
   "cell_type": "code",
   "execution_count": null,
   "metadata": {
    "Collapsed": "false"
   },
   "outputs": [],
   "source": [
    "stp = gp.ScaleTransPrms(d_buffer=-0.8,angles=-45,d_translate_factor=0.7)\n",
    "stp.d_buffers += np.random.uniform(-0.09, 0.09, size=stp.d_buffers.shape)"
   ]
  },
  {
   "cell_type": "code",
   "execution_count": null,
   "metadata": {
    "Collapsed": "false"
   },
   "outputs": [],
   "source": [
    "fills = []\n",
    "for p in polymerge:\n",
    "    P = gp.Poly(p)\n",
    "    P.fill_scale_trans(**stp.prms)\n",
    "    fills.append(P.fill)"
   ]
  },
  {
   "cell_type": "code",
   "execution_count": null,
   "metadata": {
    "Collapsed": "false"
   },
   "outputs": [],
   "source": [
    "layer2 = gp.merge_LineStrings(fills)"
   ]
  },
  {
   "cell_type": "markdown",
   "metadata": {},
   "source": [
    "# try 4"
   ]
  },
  {
   "cell_type": "code",
   "execution_count": null,
   "metadata": {
    "Collapsed": "false"
   },
   "outputs": [],
   "source": [
    "paper_size = '11x14 inches'\n",
    "border:float=20\n",
    "paper = utils.Paper(paper_size)\n",
    "\n",
    "drawbox = paper.get_drawbox(border)\n",
    "buffer_style = 2"
   ]
  },
  {
   "cell_type": "code",
   "execution_count": null,
   "metadata": {
    "Collapsed": "false"
   },
   "outputs": [],
   "source": [
    "\n",
    "poly = drawbox.buffer(-20)\n",
    "pg = gp.PerlinGrid(poly, xstep=6, ystep=6, lod=4, falloff=None, noise_scale=0.0063, noiseSeed=5)"
   ]
  },
  {
   "cell_type": "code",
   "execution_count": null,
   "metadata": {},
   "outputs": [],
   "source": [
    "p = drawbox.centroid.buffer(70)"
   ]
  },
  {
   "cell_type": "code",
   "execution_count": null,
   "metadata": {},
   "outputs": [],
   "source": [
    "stp = gp.ScaleTransPrms(d_buffer=-0.3,angles=-45,d_translate_factor=0.7, n_iters=1000)\n",
    "stp.d_buffers += np.random.uniform(-0.09, 0.09, size=stp.d_buffers.shape)"
   ]
  },
  {
   "cell_type": "code",
   "execution_count": null,
   "metadata": {},
   "outputs": [],
   "source": [
    "P = gp.Poly(p)\n",
    "P.fill_scale_trans(**stp.prms)"
   ]
  },
  {
   "cell_type": "code",
   "execution_count": null,
   "metadata": {},
   "outputs": [],
   "source": [
    "fill = P.fill"
   ]
  },
  {
   "cell_type": "code",
   "execution_count": null,
   "metadata": {},
   "outputs": [],
   "source": [
    "fill"
   ]
  },
  {
   "cell_type": "code",
   "execution_count": null,
   "metadata": {},
   "outputs": [],
   "source": [
    "bd = 0.01\n",
    "ml = fill.buffer(bd, cap_style=1, join_style=1, resolution=13).buffer(-bd, cap_style=1, join_style=1).boundary"
   ]
  },
  {
   "cell_type": "code",
   "execution_count": null,
   "metadata": {},
   "outputs": [],
   "source": [
    "ml = gp.merge_LineStrings([l for l in ml if l.length>0.2])"
   ]
  },
  {
   "cell_type": "code",
   "execution_count": null,
   "metadata": {},
   "outputs": [],
   "source": [
    "ml.buff"
   ]
  },
  {
   "cell_type": "code",
   "execution_count": null,
   "metadata": {},
   "outputs": [],
   "source": [
    "sk = vsketch.Vsketch()\n",
    "sk.size(paper.page_format_mm)\n",
    "sk.scale('1mm')\n",
    "sk.penWidth('0.3mm')\n",
    "sk.stroke(1)\n",
    "sk.geometry(ml)\n",
    "\n",
    "for tolerance in [0.1, 0.2, 0.4, 0.8,]:\n",
    "    sk.vpype(f'linemerge --tolerance {tolerance}mm')\n",
    "    \n",
    "# sk.stroke(2)\n",
    "# sk.geometry(_l1b)\n",
    "sk.vpype('linesort')\n",
    "sk.display(color_mode='layer', mode='ipython')"
   ]
  },
  {
   "cell_type": "code",
   "execution_count": null,
   "metadata": {},
   "outputs": [],
   "source": [
    "savepath = '/Users/naka/code/side/plotter_images/oned_outputs/0311_morse_flow_circle.svg'\n",
    "\n",
    "sk.save(savepath)"
   ]
  },
  {
   "cell_type": "code",
   "execution_count": null,
   "metadata": {},
   "outputs": [],
   "source": []
  }
 ],
 "metadata": {
  "kernelspec": {
   "display_name": "Python [conda env:genpen]",
   "language": "python",
   "name": "conda-env-genpen-py"
  },
  "language_info": {
   "codemirror_mode": {
    "name": "ipython",
    "version": 3
   },
   "file_extension": ".py",
   "mimetype": "text/x-python",
   "name": "python",
   "nbconvert_exporter": "python",
   "pygments_lexer": "ipython3",
   "version": "3.8.8"
  }
 },
 "nbformat": 4,
 "nbformat_minor": 4
}
