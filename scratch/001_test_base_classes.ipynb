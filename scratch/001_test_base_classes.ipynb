{
 "cells": [
  {
   "cell_type": "code",
   "execution_count": 34,
   "metadata": {
    "Collapsed": "false"
   },
   "outputs": [
    {
     "name": "stdout",
     "output_type": "stream",
     "text": [
      "The autoreload extension is already loaded. To reload it, use:\n",
      "  %reload_ext autoreload\n"
     ]
    }
   ],
   "source": [
    "import itertools\n",
    "import numpy as np\n",
    "import os\n",
    "import seaborn as sns\n",
    "from tqdm import tqdm\n",
    "from dataclasses import asdict, dataclass, field\n",
    "import vsketch\n",
    "import shapely.geometry as sg\n",
    "import shapely.affinity as sa\n",
    "import shapely.ops as so\n",
    "import matplotlib.pyplot as plt\n",
    "import pandas as pd\n",
    "\n",
    "import vpype_cli\n",
    "from typing import List, Generic\n",
    "from genpen import genpen as gp\n",
    "from scipy import stats as ss\n",
    "import geopandas\n",
    "import functools\n",
    "%load_ext autoreload\n",
    "%autoreload 2"
   ]
  },
  {
   "cell_type": "markdown",
   "metadata": {
    "Collapsed": "false"
   },
   "source": [
    "# parameters and object generation\n",
    "\n",
    "typically the full process is something like\n",
    "1. generate collections of static parameters\n",
    "2. start loop over static params\n",
    "3. for each loop\n",
    "    - calculate dynamic params\n",
    "    - pass full params to object/geometry generator function\n",
    "    - update global geometries\n",
    "    - log params (and attach to individual geometry)\n",
    "    \n",
    "would be nice to be able to define static params and procedure for calculating dynamic params all at start\n",
    "would be nice to be collecting everything in GeoDataFrame"
   ]
  },
  {
   "cell_type": "code",
   "execution_count": 21,
   "metadata": {
    "Collapsed": "false"
   },
   "outputs": [],
   "source": [
    "u0 = ss.uniform(loc=1)"
   ]
  },
  {
   "cell_type": "code",
   "execution_count": 26,
   "metadata": {
    "Collapsed": "false"
   },
   "outputs": [
    {
     "data": {
      "text/plain": [
       "1.795232336508179"
      ]
     },
     "execution_count": 26,
     "metadata": {},
     "output_type": "execute_result"
    }
   ],
   "source": [
    "u0.rvs()"
   ]
  },
  {
   "cell_type": "code",
   "execution_count": 55,
   "metadata": {
    "Collapsed": "false"
   },
   "outputs": [],
   "source": [
    "@dataclass\n",
    "class HatchCircle(gp.DataClassBase):\n",
    "    x: float\n",
    "    y: float\n",
    "    rad: float\n",
    "    hatch_angle: float\n",
    "    hatch_spacing: float\n",
    "    \n",
    "    def __post_init__(self):\n",
    "        self.P = gp.Poly(sg.Point((self.x, self.y)).buffer(self.rad))\n",
    "        self.hatches = self.P.hatch(angle=self.hatch_angle, spacing=self.hatch_spacing)\n",
    "\n",
    "\n",
    "class MetaPrms(object):\n",
    "    \n",
    "    def __init__(\n",
    "        self,\n",
    "        n_circles: int,\n",
    "        xmin: float,\n",
    "        xmax: float,\n",
    "        ymin: float,\n",
    "        ymax: float,\n",
    "        radloc: float,\n",
    "        radscale: float,\n",
    "        hatch_angle: float,\n",
    "        hatch_spacing: float,\n",
    "        ):\n",
    "\n",
    "        self.df = pd.DataFrame({\n",
    "            'x': np.linspace(xmin, xmax, n_circles),\n",
    "            'y': np.linspace(ymin, ymax, n_circles),\n",
    "            'rad': ss.uniform(loc=radloc, scale=radscale).rvs(n_circles),\n",
    "            'hatch_angle': [hatch_angle] * n_circles,\n",
    "            'hatch_spacing': [hatch_spacing] * n_circles,\n",
    "        }\n",
    "        )\n",
    "    \n",
    "        "
   ]
  },
  {
   "cell_type": "code",
   "execution_count": 56,
   "metadata": {
    "Collapsed": "false"
   },
   "outputs": [],
   "source": [
    "mprms = MetaPrms(\n",
    "    n_circles=10,\n",
    "    xmin=0,\n",
    "    xmax=10,\n",
    "    ymin=0,\n",
    "    ymax=8.5,\n",
    "    radloc=3,\n",
    "    radscale=0.1,\n",
    "    hatch_angle=45,\n",
    "    hatch_spacing=0.4\n",
    ")"
   ]
  },
  {
   "cell_type": "code",
   "execution_count": 67,
   "metadata": {
    "Collapsed": "false"
   },
   "outputs": [],
   "source": [
    "geoms = []\n",
    "for i, row in mprms.df.iterrows():\n",
    "    geoms.append(HatchCircle(**row.to_dict()).P.p)"
   ]
  },
  {
   "cell_type": "code",
   "execution_count": 76,
   "metadata": {
    "Collapsed": "false"
   },
   "outputs": [],
   "source": [
    "df = mprms.df.copy()"
   ]
  },
  {
   "cell_type": "code",
   "execution_count": 77,
   "metadata": {
    "Collapsed": "false"
   },
   "outputs": [],
   "source": [
    "df['geometry'] = geoms\n",
    "df = geopandas.GeoDataFrame(df)"
   ]
  },
  {
   "cell_type": "code",
   "execution_count": 80,
   "metadata": {
    "Collapsed": "false"
   },
   "outputs": [
    {
     "data": {
      "image/svg+xml": [
       "<svg xmlns=\"http://www.w3.org/2000/svg\" xmlns:xlink=\"http://www.w3.org/1999/xlink\" width=\"100.0\" height=\"100.0\" viewBox=\"-3.7408619252381414 -3.7408619252381414 17.487975999209546 15.987975999209544\" preserveAspectRatio=\"xMinYMin meet\"><g transform=\"matrix(1,0,0,-1,0,8.506252148733262)\"><path fill-rule=\"evenodd\" fill=\"#66cc99\" stroke=\"#555555\" stroke-width=\"0.3497595199841909\" opacity=\"0.6\" d=\"M 2.49565756054913,-1.8212247488427253 L 2.391044326294048,-1.9622793665207252 L 2.1871937822899863,-2.1871937822899827 L 1.9622793665207292,-2.3910443262940446 L 1.7184671277608605,-2.5718678063581093 L 1.4581051111509653,-2.7279227935209907 L 1.183700745239353,-2.8577063929479767 L 0.8978966940744375,-2.959968717629653 L 0.6034454069053233,-3.033724925477062 L 0.3031826105908962,-3.0782647038893884 L 4.9971364187484284e-15,-3.0931591104526026 L -0.30318261059088625,-3.0782647038893893 L -0.6034454069053136,-3.0337249254770637 L -0.8978966940744278,-2.9599687176296556 L -1.1837007452393438,-2.8577063929479802 L -1.4581051111509564,-2.7279227935209955 L -1.7184671277608528,-2.5718678063581146 L -1.962279366520722,-2.3910443262940504 L -2.1871937822899805,-2.1871937822899885 L -2.3910443262940433,-1.962279366520731 L -2.5718678063581084,-1.7184671277608623 L -2.72792279352099,-1.4581051111509669 L -2.8577063929479762,-1.183700745239354 L -2.959968717629653,-0.8978966940744376 L -3.033724925477062,-0.6034454069053228 L -3.078264703889389,-0.303182610590895 L -3.0931591104526026,-3.1260799109897634e-15 L -3.0782647038893893,0.3031826105908888 L -3.0337249254770633,0.6034454069053168 L -2.9599687176296547,0.8978966940744316 L -2.857706392947979,1.1837007452393482 L -2.7279227935209933,1.4581051111509613 L -2.571867806358112,1.7184671277608572 L -2.391044326294047,1.962279366520726 L -2.187193782289985,2.187193782289984 L -1.962279366520728,2.3910443262940455 L -1.7184671277608603,2.5718678063581097 L -1.4581051111509657,2.7279227935209907 L -1.3930469518258275,2.7586930112661068 L -1.2820011597121446,2.9084209291809024 L -1.0779743113156401,3.1335298668711955 L -0.8528653736253489,3.3375567152676986 L -0.6088422687682893,3.5185365842879355 L -0.34825507264083355,3.67472653885958 L -0.18539720106469543,3.7517525755917256 L -0.13329147153452015,3.8220090188615226 L 0.0675298777817277,4.043581233329383 L 0.2891020922495864,4.24440258264563 L 0.5292913103200383,4.422539047436234 L 0.785784378522282,4.576275076165963 L 0.8333372720482778,4.598765919795469 L 0.9653142945202711,4.776716334765682 L 1.167201797803075,4.9994648688635905 L 1.389950331900982,5.201352372146394 L 1.6314147066638953,5.380434557594544 L 1.8892694881649938,5.534986765865895 L 2.0188698964533582,5.596283193927425 L 2.098219997592468,5.7032744198328995 L 2.2982493841608487,5.923972838061373 L 2.518947802389321,6.124002224629753 L 2.7581898058643186,6.301436187198201 L 3.013671363309394,6.454565939711913 L 3.112616186114948,6.501363355655749 L 3.2166848959065164,6.641683767087626 L 3.4160873290113734,6.861690448766404 L 3.63609401069015,7.06109288187126 L 3.874586156330395,7.237970711966938 L 4.129266956196524,7.390620508858358 L 4.2295899885165555,7.43806976935634 L 4.335007990013898,7.580209490047214 L 4.533795559295038,7.799537774038294 L 4.753123843286117,7.998325343319435 L 4.990880590715261,8.174657764930123 L 5.2447760741336715,8.326836861257139 L 5.296821128554929,8.35145233875774 L 5.433162382497333,8.535287238668127 L 5.633054587987729,8.75583430090116 L 5.853601650220759,8.955726506391557 L 6.092679580423831,9.133038783928251 L 6.32535388947674,9.272498397834944 L 6.503727292629862,9.51300709030437 L 6.707076299416617,9.737368145027826 L 6.931437354140073,9.940717151814582 L 7.174649737195015,10.121095748567402 L 7.434371180379212,10.276766790794591 L 7.479385421826813,10.298056941412774 L 7.604122697379163,10.4662456876887 L 7.808385280943739,10.691614719056261 L 8.033754312311299,10.895877302620836 L 8.278059364510527,11.077066278041412 L 8.538947646338023,11.233436696436723 L 8.813906661023744,11.363482625196854 L 9.10028840294838,11.465951650937509 L 9.39533485938501,11.539856940925537 L 9.696204571669352,11.584486746817614 L 9.999999999999991,11.599411259185864 L 10.30379542833063,11.584486746817616 L 10.604665140614973,11.53985694092554 L 10.899711597051605,11.465951650937512 L 11.186093338976239,11.36348262519686 L 11.46105235366196,11.233436696436732 L 11.721940635489457,11.077066278041423 L 11.966245687688689,10.895877302620846 L 12.191614719056249,10.691614719056274 L 12.395877302620825,10.466245687688716 L 12.577066278041404,10.221940635489485 L 12.733436696436716,9.96105235366199 L 12.863482625196847,9.68609333897627 L 12.965951650937503,9.399711597051637 L 13.039856940925533,9.104665140615007 L 13.084486746817612,8.803795428330666 L 13.099411259185864,8.500000000000025 L 13.099411259185864,8.5 L 13.084486746817614,8.196204571669359 L 13.039856940925539,7.895334859385017 L 12.965951650937509,7.600288402948385 L 12.863482625196855,7.31390666102375 L 12.733436696436726,7.038947646338029 L 12.577066278041416,6.778059364510532 L 12.395877302620839,6.533754312311301 L 12.191614719056263,6.308385280943741 L 11.966245687688703,6.104122697379165 L 11.721940635489473,5.922933721958588 L 11.461052353661977,5.766563303563277 L 11.365455434714475,5.7213493282173715 L 11.274050485147917,5.598104020806742 L 11.070701478361162,5.373742966083285 L 10.846340423637708,5.170393959296531 L 10.603128040582764,4.9900153625437085 L 10.343406597398566,4.83434432031652 L 10.171375117233987,4.752979489854227 L 10.122393173058226,4.686934983554094 L 9.92250096756783,4.466387921321064 L 9.701953905334799,4.266495715830667 L 9.462875975131727,4.08918343829397 L 9.20756962811976,3.9361587028724037 L 9.094363368111864,3.882616129478275 L 8.998325343319438,3.7531238432861187 L 8.799537774038296,3.53379555929504 L 8.580209490047219,3.3350079900138985 L 8.342452742618073,3.1586755684032104 L 8.088557259199662,3.0064964720761935 L 8.022277844511333,2.9751486435619197 L 7.894426215204595,2.80276067735682 L 7.695023782099739,2.5827539956780425 L 7.475017100420962,2.383351562573186 L 7.236524954780716,2.2064737324775074 L 6.981844154914586,2.053823935586087 L 6.91761232572136,2.0234445428866232 L 6.790668891296422,1.8522811357226572 L 6.590639504728042,1.631582717494184 L 6.369941086499569,1.4315533309258033 L 6.130699083024571,1.2541193683573546 L 5.875217525579495,1.100989615843642 L 5.848496832280192,1.0883516691256767 L 5.701352372146397,0.8899503319009847 L 5.499464868863593,0.6672017978030769 L 5.276716334765686,0.4653142945202733 L 5.035251960002772,0.28623210907212204 L 4.777397178501673,0.13167990080077052 L 4.670813754028773,0.08126969533121582 L 4.577735915978966,-0.04423124108374399 L 4.376914566662718,-0.26580345555160356 L 4.155342352194859,-0.4666248048678514 L 3.915153134124407,-0.6447612696584559 L 3.6757515791329953,-0.7882530396078928 L 3.5042233819343678,-1.0195320402920125 L 3.3001965335378642,-1.2446409779823047 L 3.075087595847572,-1.4486678263788086 L 2.831064490990512,-1.629647695399046 L 2.5704772948630557,-1.7858376499706912 L 2.49565756054913,-1.8212247488427253 z\" /></g></svg>"
      ],
      "text/plain": [
       "<shapely.geometry.polygon.Polygon at 0x7fa171c2c820>"
      ]
     },
     "execution_count": 80,
     "metadata": {},
     "output_type": "execute_result"
    }
   ],
   "source": [
    "df.unary_union"
   ]
  },
  {
   "cell_type": "code",
   "execution_count": 52,
   "metadata": {
    "Collapsed": "false"
   },
   "outputs": [],
   "source": [
    "hc = HatchCircle(x=1, y=0, rad=3, hatch_angle=45, hatch_spacing=0.5)"
   ]
  },
  {
   "cell_type": "code",
   "execution_count": 119,
   "metadata": {
    "Collapsed": "false"
   },
   "outputs": [
    {
     "data": {
      "image/svg+xml": [
       "<svg xmlns=\"http://www.w3.org/2000/svg\" xmlns:xlink=\"http://www.w3.org/1999/xlink\" width=\"100.0\" height=\"100.0\" viewBox=\"-2.24 -3.24 6.48 6.48\" preserveAspectRatio=\"xMinYMin meet\"><g transform=\"matrix(1,0,0,-1,0,0.0)\"><path fill-rule=\"evenodd\" fill=\"#66cc99\" stroke=\"#555555\" stroke-width=\"0.12960000000000002\" opacity=\"0.6\" d=\"M 4.0,0.0 L 3.9855541800165906,-0.29405142098868153 L 3.9423558412096917,-0.5852709660483842 L 3.8708210071966267,-0.8708540317633864 L 3.771638597533861,-1.1480502970952682 L 3.6457637930450657,-1.4141902104779915 L 3.4944088369076365,-1.6667106990588052 L 3.3190313600882124,-1.903179852490935 L 3.1213203435596446,-2.1213203435596406 L 2.903179852490939,-2.319031360088209 L 2.666710699058809,-2.494408836907634 L 2.4141902104779955,-2.6457637930450635 L 2.1480502970952724,-2.771638597533859 L 1.8708540317633908,-2.8708210071966254 L 1.5852709660483888,-2.9423558412096904 L 1.2940514209886862,-2.98555418001659 L 1.0000000000000049,-3.0 L 0.7059485790113234,-2.985554180016591 L 0.41472903395162053,-2.942355841209692 L 0.1291459682366185,-2.870821007196628 L -0.14805029709526352,-2.7716385975338627 L -0.4141902104779871,-2.6457637930450684 L -0.6667106990588016,-2.494408836907639 L -0.9031798524909318,-2.3190313600882146 L -1.1213203435596388,-2.1213203435596464 L -1.3190313600882075,-1.9031798524909405 L -1.494408836907633,-1.666710699058811 L -1.645763793045063,-1.414190210477997 L -1.7716385975338587,-1.1480502970952733 L -1.8708210071966254,-0.870854031763391 L -1.9423558412096904,-0.5852709660483884 L -1.9855541800165906,-0.29405142098868514 L -2.0,-3.031929298844582e-15 L -1.9855541800165906,0.2940514209886791 L -1.9423558412096922,0.5852709660483825 L -1.8708210071966271,0.8708540317633852 L -1.7716385975338609,1.1480502970952677 L -1.6457637930450657,1.4141902104779918 L -1.4944088369076365,1.6667106990588059 L -1.3190313600882115,1.9031798524909358 L -1.1213203435596428,2.1213203435596424 L -0.9031798524909378,2.3190313600882098 L -0.6667106990588088,2.4944088369076343 L -0.414190210477996,2.6457637930450635 L -0.1480502970952735,2.7716385975338587 L 0.12914596823660762,2.870821007196625 L 0.41472903395160876,2.94235584120969 L 0.7059485790113107,2.9855541800165897 L 0.9999999999999915,3.0 L 1.2940514209886722,2.9855541800165915 L 1.5852709660483744,2.942355841209693 L 1.870854031763376,2.87082100719663 L 2.1480502970952577,2.7716385975338653 L 2.414190210477981,2.6457637930450715 L 2.6667106990587945,2.4944088369076436 L 2.9031798524909247,2.3190313600882204 L 3.121320343559631,2.1213203435596544 L 3.3190313600881995,1.90317985249095 L 3.4944088369076254,1.666710699058822 L 3.645763793045056,1.4141902104780102 L 3.771638597533852,1.1480502970952884 L 3.87082100719662,0.8708540317634078 L 3.942355841209687,0.585270966048407 L 3.9855541800165883,0.2940514209887054 L 4.0,2.4715605411391792e-14 L 4.0,0.0 z\" /></g></svg>"
      ],
      "text/plain": [
       "<shapely.geometry.polygon.Polygon at 0x7f7a20908a90>"
      ]
     },
     "execution_count": 119,
     "metadata": {},
     "output_type": "execute_result"
    }
   ],
   "source": [
    "hc.P.p"
   ]
  },
  {
   "cell_type": "code",
   "execution_count": 34,
   "metadata": {
    "Collapsed": "false"
   },
   "outputs": [],
   "source": [
    "centers = np.linspace(1,10,10)\n",
    "rads = "
   ]
  },
  {
   "cell_type": "code",
   "execution_count": null,
   "metadata": {
    "Collapsed": "false"
   },
   "outputs": [],
   "source": [
    "for c in centers:\n",
    "    Point(c).buffer"
   ]
  },
  {
   "cell_type": "code",
   "execution_count": 109,
   "metadata": {
    "Collapsed": "false"
   },
   "outputs": [
    {
     "data": {
      "text/plain": [
       "\u001b[0;31mSignature:\u001b[0m       \u001b[0mss\u001b[0m\u001b[0;34m.\u001b[0m\u001b[0muniform\u001b[0m\u001b[0;34m(\u001b[0m\u001b[0;34m*\u001b[0m\u001b[0margs\u001b[0m\u001b[0;34m,\u001b[0m \u001b[0;34m**\u001b[0m\u001b[0mkwds\u001b[0m\u001b[0;34m)\u001b[0m\u001b[0;34m\u001b[0m\u001b[0;34m\u001b[0m\u001b[0m\n",
       "\u001b[0;31mType:\u001b[0m            uniform_gen\n",
       "\u001b[0;31mString form:\u001b[0m     <scipy.stats._continuous_distns.uniform_gen object at 0x7f7a01658730>\n",
       "\u001b[0;31mFile:\u001b[0m            ~/anaconda3/envs/genpen/lib/python3.8/site-packages/scipy/stats/_continuous_distns.py\n",
       "\u001b[0;31mDocstring:\u001b[0m      \n",
       "A uniform continuous random variable.\n",
       "\n",
       "In the standard form, the distribution is uniform on ``[0, 1]``. Using\n",
       "the parameters ``loc`` and ``scale``, one obtains the uniform distribution\n",
       "on ``[loc, loc + scale]``.\n",
       "\n",
       "As an instance of the `rv_continuous` class, `uniform` object inherits from it\n",
       "a collection of generic methods (see below for the full list),\n",
       "and completes them with details specific for this particular distribution.\n",
       "\n",
       "Methods\n",
       "-------\n",
       "rvs(loc=0, scale=1, size=1, random_state=None)\n",
       "    Random variates.\n",
       "pdf(x, loc=0, scale=1)\n",
       "    Probability density function.\n",
       "logpdf(x, loc=0, scale=1)\n",
       "    Log of the probability density function.\n",
       "cdf(x, loc=0, scale=1)\n",
       "    Cumulative distribution function.\n",
       "logcdf(x, loc=0, scale=1)\n",
       "    Log of the cumulative distribution function.\n",
       "sf(x, loc=0, scale=1)\n",
       "    Survival function  (also defined as ``1 - cdf``, but `sf` is sometimes more accurate).\n",
       "logsf(x, loc=0, scale=1)\n",
       "    Log of the survival function.\n",
       "ppf(q, loc=0, scale=1)\n",
       "    Percent point function (inverse of ``cdf`` --- percentiles).\n",
       "isf(q, loc=0, scale=1)\n",
       "    Inverse survival function (inverse of ``sf``).\n",
       "moment(n, loc=0, scale=1)\n",
       "    Non-central moment of order n\n",
       "stats(loc=0, scale=1, moments='mv')\n",
       "    Mean('m'), variance('v'), skew('s'), and/or kurtosis('k').\n",
       "entropy(loc=0, scale=1)\n",
       "    (Differential) entropy of the RV.\n",
       "fit(data)\n",
       "    Parameter estimates for generic data.\n",
       "    See `scipy.stats.rv_continuous.fit <https://docs.scipy.org/doc/scipy/reference/generated/scipy.stats.rv_continuous.fit.html#scipy.stats.rv_continuous.fit>`__ for detailed documentation of the\n",
       "    keyword arguments.\n",
       "expect(func, args=(), loc=0, scale=1, lb=None, ub=None, conditional=False, **kwds)\n",
       "    Expected value of a function (of one argument) with respect to the distribution.\n",
       "median(loc=0, scale=1)\n",
       "    Median of the distribution.\n",
       "mean(loc=0, scale=1)\n",
       "    Mean of the distribution.\n",
       "var(loc=0, scale=1)\n",
       "    Variance of the distribution.\n",
       "std(loc=0, scale=1)\n",
       "    Standard deviation of the distribution.\n",
       "interval(alpha, loc=0, scale=1)\n",
       "    Endpoints of the range that contains alpha percent of the distribution\n",
       "\n",
       "Examples\n",
       "--------\n",
       ">>> from scipy.stats import uniform\n",
       ">>> import matplotlib.pyplot as plt\n",
       ">>> fig, ax = plt.subplots(1, 1)\n",
       "\n",
       "Calculate a few first moments:\n",
       "\n",
       "\n",
       ">>> mean, var, skew, kurt = uniform.stats(moments='mvsk')\n",
       "\n",
       "Display the probability density function (``pdf``):\n",
       "\n",
       ">>> x = np.linspace(uniform.ppf(0.01),\n",
       "...                 uniform.ppf(0.99), 100)\n",
       ">>> ax.plot(x, uniform.pdf(x),\n",
       "...        'r-', lw=5, alpha=0.6, label='uniform pdf')\n",
       "\n",
       "Alternatively, the distribution object can be called (as a function)\n",
       "to fix the shape, location and scale parameters. This returns a \"frozen\"\n",
       "RV object holding the given parameters fixed.\n",
       "\n",
       "Freeze the distribution and display the frozen ``pdf``:\n",
       "\n",
       ">>> rv = uniform()\n",
       ">>> ax.plot(x, rv.pdf(x), 'k-', lw=2, label='frozen pdf')\n",
       "\n",
       "Check accuracy of ``cdf`` and ``ppf``:\n",
       "\n",
       ">>> vals = uniform.ppf([0.001, 0.5, 0.999])\n",
       ">>> np.allclose([0.001, 0.5, 0.999], uniform.cdf(vals))\n",
       "True\n",
       "\n",
       "Generate random numbers:\n",
       "\n",
       ">>> r = uniform.rvs(size=1000)\n",
       "\n",
       "And compare the histogram:\n",
       "\n",
       ">>> ax.hist(r, density=True, histtype='stepfilled', alpha=0.2)\n",
       ">>> ax.legend(loc='best', frameon=False)\n",
       ">>> plt.show()\n",
       "\u001b[0;31mClass docstring:\u001b[0m\n",
       "A uniform continuous random variable.\n",
       "\n",
       "In the standard form, the distribution is uniform on ``[0, 1]``. Using\n",
       "the parameters ``loc`` and ``scale``, one obtains the uniform distribution\n",
       "on ``[loc, loc + scale]``.\n",
       "\n",
       "%(before_notes)s\n",
       "\n",
       "%(example)s\n",
       "\u001b[0;31mCall docstring:\u001b[0m \n",
       "Freeze the distribution for the given arguments.\n",
       "\n",
       "Parameters\n",
       "----------\n",
       "arg1, arg2, arg3,... : array_like\n",
       "    The shape parameter(s) for the distribution.  Should include all\n",
       "    the non-optional arguments, may include ``loc`` and ``scale``.\n",
       "\n",
       "Returns\n",
       "-------\n",
       "rv_frozen : rv_frozen instance\n",
       "    The frozen distribution.\n"
      ]
     },
     "metadata": {},
     "output_type": "display_data"
    }
   ],
   "source": [
    "?ss.uniform"
   ]
  }
 ],
 "metadata": {
  "kernelspec": {
   "display_name": "Python [conda env:genpen]",
   "language": "python",
   "name": "conda-env-genpen-py"
  },
  "language_info": {
   "codemirror_mode": {
    "name": "ipython",
    "version": 3
   },
   "file_extension": ".py",
   "mimetype": "text/x-python",
   "name": "python",
   "nbconvert_exporter": "python",
   "pygments_lexer": "ipython3",
   "version": "3.8.6"
  }
 },
 "nbformat": 4,
 "nbformat_minor": 4
}
